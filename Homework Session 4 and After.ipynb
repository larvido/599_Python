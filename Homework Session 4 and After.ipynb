{
 "cells": [
  {
   "cell_type": "code",
   "execution_count": 1,
   "metadata": {
    "collapsed": true
   },
   "outputs": [],
   "source": [
    "import geopandas as gpd\n",
    "import pandas as pd\n",
    "import os\n",
    "import numpy as np"
   ]
  },
  {
   "cell_type": "markdown",
   "metadata": {},
   "source": [
    "import data from a stata file"
   ]
  },
  {
   "cell_type": "code",
   "execution_count": 2,
   "metadata": {
    "collapsed": false
   },
   "outputs": [],
   "source": [
    "folder=\"data\"\n",
    "fileName=\"chfls.dta\"\n",
    "fileToRead=os.path.join(folder,fileName)"
   ]
  },
  {
   "cell_type": "markdown",
   "metadata": {},
   "source": [
    "a few questions in the survey are about AIDS and STDs, let's imagine respondents have taken a test on STDs and these are the questions."
   ]
  },
  {
   "cell_type": "code",
   "execution_count": 3,
   "metadata": {
    "collapsed": false
   },
   "outputs": [],
   "source": [
    "questions=[\"site\",\"jb13\",\"jb13a\",\"jb14\",\"jb15\",\"jb16\",\"jb18\",\"jb19\",\"jb20\",\"region6\",\"zj07\",\"zj05\"]\n",
    "TEST=pd.read_stata(fileToRead,columns=questions,convert_categoricals=False)"
   ]
  },
  {
   "cell_type": "code",
   "execution_count": 4,
   "metadata": {
    "collapsed": false
   },
   "outputs": [
    {
     "data": {
      "text/plain": [
       "site          int8\n",
       "jb13       float64\n",
       "jb13a      float64\n",
       "jb14          int8\n",
       "jb15          int8\n",
       "jb16          int8\n",
       "jb18          int8\n",
       "jb19          int8\n",
       "jb20          int8\n",
       "region6       int8\n",
       "zj07          int8\n",
       "zj05          int8\n",
       "dtype: object"
      ]
     },
     "execution_count": 4,
     "metadata": {},
     "output_type": "execute_result"
    }
   ],
   "source": [
    "TEST.dtypes"
   ]
  },
  {
   "cell_type": "markdown",
   "metadata": {},
   "source": [
    "transfer missing values as np.nan"
   ]
  },
  {
   "cell_type": "code",
   "execution_count": 5,
   "metadata": {
    "collapsed": true
   },
   "outputs": [],
   "source": [
    "import numpy as np\n",
    "missing=[-1,-2,-3,-4,-9]\n",
    "TEST.replace(missing,np.nan,inplace=True)"
   ]
  },
  {
   "cell_type": "markdown",
   "metadata": {},
   "source": [
    "for question jb13, the right answer is 4. If the respondents gave the right answer, she/he get 1 score; if she/he gave a wrong anwser, or she/he did not answer for any reason, the score is 0."
   ]
  },
  {
   "cell_type": "code",
   "execution_count": 6,
   "metadata": {
    "collapsed": false
   },
   "outputs": [],
   "source": [
    "wrong=[1,2,3,5,6,np.nan]\n",
    "right=[4]\n",
    "TEST.jb13.replace(wrong,0,inplace=True)\n",
    "TEST.jb13.replace(right,1,inplace=True)"
   ]
  },
  {
   "cell_type": "markdown",
   "metadata": {},
   "source": [
    "for question jb13a, right answer is 3."
   ]
  },
  {
   "cell_type": "code",
   "execution_count": 7,
   "metadata": {
    "collapsed": true
   },
   "outputs": [],
   "source": [
    "wrong=[1,2,4,5,6,np.nan]\n",
    "right=[3]\n",
    "TEST.jb13a.replace(wrong,0,inplace=True)\n",
    "TEST.jb13a.replace(right,1,inplace=True)"
   ]
  },
  {
   "cell_type": "markdown",
   "metadata": {},
   "source": [
    "actually, jb13 and jb13a are the same question, jb13a was given to respondents at survey sites 1 to 40, and jb13 was given to respondents at sites 41 to 70. let's just combine results from all sites."
   ]
  },
  {
   "cell_type": "code",
   "execution_count": 8,
   "metadata": {
    "collapsed": false
   },
   "outputs": [],
   "source": [
    "TEST['jb13new']=TEST.apply(lambda _: '', axis=1)\n",
    "for value in TEST.site:\n",
    "    if value>=41 and value<=70:\n",
    "        TEST.jb13new = TEST.jb13\n",
    "    if value>=1 and value<=40:\n",
    "        TEST.jb13new = TEST.jb13a"
   ]
  },
  {
   "cell_type": "markdown",
   "metadata": {},
   "source": [
    "for question jb19, the right answer is 1, and the wrong answer is 2 and 3"
   ]
  },
  {
   "cell_type": "code",
   "execution_count": 9,
   "metadata": {
    "collapsed": true
   },
   "outputs": [],
   "source": [
    "wrong=[2,3,np.nan]\n",
    "right=[1]\n",
    "TEST.jb19.replace(wrong,0,inplace=True)\n",
    "TEST.jb19.replace(right,1,inplace=True)"
   ]
  },
  {
   "cell_type": "markdown",
   "metadata": {},
   "source": [
    "for jb14, jb15, jb16,jb18 and jb20, right answer is 2."
   ]
  },
  {
   "cell_type": "code",
   "execution_count": 10,
   "metadata": {
    "collapsed": true
   },
   "outputs": [],
   "source": [
    "wrong=[1,3,np.nan]\n",
    "right=[2]\n",
    "TEST.jb14.replace(wrong,0,inplace=True)\n",
    "TEST.jb14.replace(right,1,inplace=True)\n",
    "TEST.jb15.replace(wrong,0,inplace=True)\n",
    "TEST.jb15.replace(right,1,inplace=True)\n",
    "TEST.jb16.replace(wrong,0,inplace=True)\n",
    "TEST.jb16.replace(right,1,inplace=True)\n",
    "TEST.jb18.replace(wrong,0,inplace=True)\n",
    "TEST.jb18.replace(right,1,inplace=True)\n",
    "TEST.jb20.replace(wrong,0,inplace=True)\n",
    "TEST.jb20.replace(right,1,inplace=True)"
   ]
  },
  {
   "cell_type": "markdown",
   "metadata": {},
   "source": [
    "generate respondents' total score"
   ]
  },
  {
   "cell_type": "code",
   "execution_count": 11,
   "metadata": {
    "collapsed": true
   },
   "outputs": [],
   "source": [
    "TEST['score']=TEST.apply(lambda x: x['jb13new']+x['jb14']+x['jb15']+x['jb16']+x['jb18']+x['jb19']+x['jb20'], axis = 1)"
   ]
  },
  {
   "cell_type": "markdown",
   "metadata": {},
   "source": [
    "I want to compare if scores by region"
   ]
  },
  {
   "cell_type": "code",
   "execution_count": 12,
   "metadata": {
    "collapsed": false
   },
   "outputs": [],
   "source": [
    "var1=[\"region6\",\"score\"]\n",
    "byregion=TEST[var1]"
   ]
  },
  {
   "cell_type": "markdown",
   "metadata": {},
   "source": [
    "aggregate each region's mean score"
   ]
  },
  {
   "cell_type": "code",
   "execution_count": 13,
   "metadata": {
    "collapsed": false
   },
   "outputs": [
    {
     "data": {
      "text/html": [
       "<div>\n",
       "<table border=\"1\" class=\"dataframe\">\n",
       "  <thead>\n",
       "    <tr style=\"text-align: right;\">\n",
       "      <th></th>\n",
       "      <th>region6</th>\n",
       "      <th>score</th>\n",
       "    </tr>\n",
       "  </thead>\n",
       "  <tbody>\n",
       "    <tr>\n",
       "      <th>0</th>\n",
       "      <td>1</td>\n",
       "      <td>3.153121</td>\n",
       "    </tr>\n",
       "    <tr>\n",
       "      <th>1</th>\n",
       "      <td>2</td>\n",
       "      <td>3.193627</td>\n",
       "    </tr>\n",
       "    <tr>\n",
       "      <th>2</th>\n",
       "      <td>3</td>\n",
       "      <td>2.459318</td>\n",
       "    </tr>\n",
       "    <tr>\n",
       "      <th>3</th>\n",
       "      <td>4</td>\n",
       "      <td>3.141638</td>\n",
       "    </tr>\n",
       "    <tr>\n",
       "      <th>4</th>\n",
       "      <td>5</td>\n",
       "      <td>2.907738</td>\n",
       "    </tr>\n",
       "    <tr>\n",
       "      <th>5</th>\n",
       "      <td>6</td>\n",
       "      <td>2.704062</td>\n",
       "    </tr>\n",
       "  </tbody>\n",
       "</table>\n",
       "</div>"
      ],
      "text/plain": [
       "  region6     score\n",
       "0       1  3.153121\n",
       "1       2  3.193627\n",
       "2       3  2.459318\n",
       "3       4  3.141638\n",
       "4       5  2.907738\n",
       "5       6  2.704062"
      ]
     },
     "execution_count": 13,
     "metadata": {},
     "output_type": "execute_result"
    }
   ],
   "source": [
    "aggregatedregion=byregion.groupby(['region6'],as_index=False)['score'].mean()\n",
    "aggregatedregion['region6']=aggregatedregion['region6'].astype(str)\n",
    "aggregatedregion"
   ]
  },
  {
   "cell_type": "markdown",
   "metadata": {},
   "source": [
    "import a shp map file "
   ]
  },
  {
   "cell_type": "code",
   "execution_count": 14,
   "metadata": {
    "collapsed": true
   },
   "outputs": [],
   "source": [
    "folder=\"data\"\n",
    "fileName=\"regionschn.shp\"\n",
    "fileSHP=os.path.join(folder,fileName) \n",
    "CHN = gpd.read_file(fileSHP)"
   ]
  },
  {
   "cell_type": "markdown",
   "metadata": {},
   "source": [
    "merge my aggregated region score to the shp file using a common column \"region6\""
   ]
  },
  {
   "cell_type": "code",
   "execution_count": 15,
   "metadata": {
    "collapsed": false
   },
   "outputs": [
    {
     "data": {
      "text/html": [
       "<div>\n",
       "<table border=\"1\" class=\"dataframe\">\n",
       "  <thead>\n",
       "    <tr style=\"text-align: right;\">\n",
       "      <th></th>\n",
       "      <th>ID_0</th>\n",
       "      <th>ISO</th>\n",
       "      <th>NAME_0</th>\n",
       "      <th>ID_1</th>\n",
       "      <th>NAME_1</th>\n",
       "      <th>HASC_1</th>\n",
       "      <th>CCN_1</th>\n",
       "      <th>CCA_1</th>\n",
       "      <th>TYPE_1</th>\n",
       "      <th>ENGTYPE_1</th>\n",
       "      <th>NL_NAME_1</th>\n",
       "      <th>VARNAME_1</th>\n",
       "      <th>NAME2</th>\n",
       "      <th>region6</th>\n",
       "      <th>geometry</th>\n",
       "      <th>score</th>\n",
       "    </tr>\n",
       "  </thead>\n",
       "  <tbody>\n",
       "    <tr>\n",
       "      <th>0</th>\n",
       "      <td>49</td>\n",
       "      <td>CHN</td>\n",
       "      <td>China</td>\n",
       "      <td>4</td>\n",
       "      <td>Fujian</td>\n",
       "      <td>CN.FJ</td>\n",
       "      <td>0</td>\n",
       "      <td>None</td>\n",
       "      <td>Shěng</td>\n",
       "      <td>Province</td>\n",
       "      <td>福建</td>\n",
       "      <td>Fújiàn</td>\n",
       "      <td>Fujian</td>\n",
       "      <td>1</td>\n",
       "      <td>(POLYGON ((117.6890258789064 23.53347206115728...</td>\n",
       "      <td>3.153121</td>\n",
       "    </tr>\n",
       "    <tr>\n",
       "      <th>1</th>\n",
       "      <td>49</td>\n",
       "      <td>CHN</td>\n",
       "      <td>China</td>\n",
       "      <td>1</td>\n",
       "      <td>Anhui</td>\n",
       "      <td>CN.AH</td>\n",
       "      <td>0</td>\n",
       "      <td>None</td>\n",
       "      <td>Shěng</td>\n",
       "      <td>Province</td>\n",
       "      <td>安徽|安徽</td>\n",
       "      <td>Ānhuī</td>\n",
       "      <td>Anhui</td>\n",
       "      <td>3</td>\n",
       "      <td>POLYGON ((116.4263229370118 34.63999176025402,...</td>\n",
       "      <td>2.459318</td>\n",
       "    </tr>\n",
       "    <tr>\n",
       "      <th>2</th>\n",
       "      <td>49</td>\n",
       "      <td>CHN</td>\n",
       "      <td>China</td>\n",
       "      <td>15</td>\n",
       "      <td>Jiangsu</td>\n",
       "      <td>CN.JS</td>\n",
       "      <td>0</td>\n",
       "      <td>None</td>\n",
       "      <td>Shěng</td>\n",
       "      <td>Province</td>\n",
       "      <td>江蘇|江苏</td>\n",
       "      <td>Jiāngsū</td>\n",
       "      <td>Jiangsu</td>\n",
       "      <td>2</td>\n",
       "      <td>(POLYGON ((120.9240264892583 32.66013717651367...</td>\n",
       "      <td>3.193627</td>\n",
       "    </tr>\n",
       "    <tr>\n",
       "      <th>3</th>\n",
       "      <td>49</td>\n",
       "      <td>CHN</td>\n",
       "      <td>China</td>\n",
       "      <td>11</td>\n",
       "      <td>Heilongjiang</td>\n",
       "      <td>CN.HL</td>\n",
       "      <td>0</td>\n",
       "      <td>None</td>\n",
       "      <td>Shěng</td>\n",
       "      <td>Province</td>\n",
       "      <td>黑龙江省|黑龍江省</td>\n",
       "      <td>Hēilóngjiāng</td>\n",
       "      <td>Heilongjiang</td>\n",
       "      <td>5</td>\n",
       "      <td>(POLYGON ((123.4570465087892 53.50650024414074...</td>\n",
       "      <td>2.907738</td>\n",
       "    </tr>\n",
       "    <tr>\n",
       "      <th>4</th>\n",
       "      <td>49</td>\n",
       "      <td>CHN</td>\n",
       "      <td>China</td>\n",
       "      <td>2</td>\n",
       "      <td>Beijing</td>\n",
       "      <td>CN.BJ</td>\n",
       "      <td>0</td>\n",
       "      <td>None</td>\n",
       "      <td>Zhíxiáshì</td>\n",
       "      <td>Municipality</td>\n",
       "      <td>北京|北京</td>\n",
       "      <td>Běijīng</td>\n",
       "      <td>Beijing</td>\n",
       "      <td>4</td>\n",
       "      <td>(POLYGON ((117.5643081665042 38.65569305419933...</td>\n",
       "      <td>3.141638</td>\n",
       "    </tr>\n",
       "    <tr>\n",
       "      <th>5</th>\n",
       "      <td>49</td>\n",
       "      <td>CHN</td>\n",
       "      <td>China</td>\n",
       "      <td>3</td>\n",
       "      <td>Chongqing</td>\n",
       "      <td>CN.CQ</td>\n",
       "      <td>0</td>\n",
       "      <td>None</td>\n",
       "      <td>Zhíxiáshì</td>\n",
       "      <td>Municipality</td>\n",
       "      <td>重慶|重庆</td>\n",
       "      <td>Chóngqìng</td>\n",
       "      <td>Chongqing</td>\n",
       "      <td>6</td>\n",
       "      <td>(POLYGON ((108.5418930053714 32.1896705627442,...</td>\n",
       "      <td>2.704062</td>\n",
       "    </tr>\n",
       "  </tbody>\n",
       "</table>\n",
       "</div>"
      ],
      "text/plain": [
       "   ID_0  ISO NAME_0  ID_1        NAME_1 HASC_1  CCN_1 CCA_1     TYPE_1  \\\n",
       "0    49  CHN  China     4        Fujian  CN.FJ      0  None      Shěng   \n",
       "1    49  CHN  China     1         Anhui  CN.AH      0  None      Shěng   \n",
       "2    49  CHN  China    15       Jiangsu  CN.JS      0  None      Shěng   \n",
       "3    49  CHN  China    11  Heilongjiang  CN.HL      0  None      Shěng   \n",
       "4    49  CHN  China     2       Beijing  CN.BJ      0  None  Zhíxiáshì   \n",
       "5    49  CHN  China     3     Chongqing  CN.CQ      0  None  Zhíxiáshì   \n",
       "\n",
       "      ENGTYPE_1  NL_NAME_1     VARNAME_1         NAME2 region6  \\\n",
       "0      Province         福建        Fújiàn        Fujian       1   \n",
       "1      Province      安徽|安徽         Ānhuī         Anhui       3   \n",
       "2      Province      江蘇|江苏       Jiāngsū       Jiangsu       2   \n",
       "3      Province  黑龙江省|黑龍江省  Hēilóngjiāng  Heilongjiang       5   \n",
       "4  Municipality      北京|北京       Běijīng       Beijing       4   \n",
       "5  Municipality      重慶|重庆     Chóngqìng     Chongqing       6   \n",
       "\n",
       "                                            geometry     score  \n",
       "0  (POLYGON ((117.6890258789064 23.53347206115728...  3.153121  \n",
       "1  POLYGON ((116.4263229370118 34.63999176025402,...  2.459318  \n",
       "2  (POLYGON ((120.9240264892583 32.66013717651367...  3.193627  \n",
       "3  (POLYGON ((123.4570465087892 53.50650024414074...  2.907738  \n",
       "4  (POLYGON ((117.5643081665042 38.65569305419933...  3.141638  \n",
       "5  (POLYGON ((108.5418930053714 32.1896705627442,...  2.704062  "
      ]
     },
     "execution_count": 15,
     "metadata": {},
     "output_type": "execute_result"
    }
   ],
   "source": [
    "mergeregion = CHN.merge(aggregatedregion, on=\"region6\")\n",
    "mergeregion"
   ]
  },
  {
   "cell_type": "markdown",
   "metadata": {},
   "source": [
    "plot the map"
   ]
  },
  {
   "cell_type": "code",
   "execution_count": 16,
   "metadata": {
    "collapsed": true
   },
   "outputs": [],
   "source": [
    "%matplotlib inline"
   ]
  },
  {
   "cell_type": "code",
   "execution_count": 17,
   "metadata": {
    "collapsed": true
   },
   "outputs": [],
   "source": [
    "vartoplot = \"score\"\n",
    "colorMap = \"Greens\"\n",
    "Nofclass = 6\n",
    "title = \"average score by region\"\n",
    "args={\"column\":vartoplot,\"cmap\":colorMap,\"scheme\":\"Quantiles\",\"k\":Nofclass,'figsize':(20,13),'legend':True}"
   ]
  },
  {
   "cell_type": "code",
   "execution_count": 18,
   "metadata": {
    "collapsed": false
   },
   "outputs": [
    {
     "data": {
      "text/plain": [
       "<matplotlib.text.Text at 0x1176d40d0>"
      ]
     },
     "execution_count": 18,
     "metadata": {},
     "output_type": "execute_result"
    },
    {
     "data": {
      "image/png": "[encoded data removed]",
      "text/plain": [
       "<matplotlib.figure.Figure at 0x113128a90>"
      ]
     },
     "metadata": {},
     "output_type": "display_data"
    }
   ],
   "source": [
    "import matplotlib.pyplot as plt\n",
    "mergeregion.plot(**args)\n",
    "plt.title(title,{'fontsize': 20})"
   ]
  },
  {
   "cell_type": "markdown",
   "metadata": {
    "collapsed": true
   },
   "source": [
    "Above is a exercise for plotting a map, my interest is in the age at first marriage. For the age at first marriage, it would make no sense if I use mode to plot the map because in every region the majority respondents got married at the same age range."
   ]
  },
  {
   "cell_type": "markdown",
   "metadata": {},
   "source": [
    "The variable of interest includes zj05(gender),zj07(education level),hy04(marrital status), and a07m(age range at first marriage)"
   ]
  },
  {
   "cell_type": "code",
   "execution_count": 19,
   "metadata": {
    "collapsed": false
   },
   "outputs": [],
   "source": [
    "varsOfInterest=[\"zj05\",\"zj07\",\"hy04\",\"a07m\",]\n",
    "VOI=pd.read_stata(fileToRead,columns=varsOfInterest)"
   ]
  },
  {
   "cell_type": "markdown",
   "metadata": {},
   "source": [
    "deal with different kinds of missing values"
   ]
  },
  {
   "cell_type": "code",
   "execution_count": 20,
   "metadata": {
    "collapsed": true
   },
   "outputs": [],
   "source": [
    "import numpy as np\n",
    "missing=['dont know','inap','refused','legit skip','out of scope','-1','-2','-3','-4','-9',-1,-2,-3,-4,-9]\n",
    "VOI.replace(missing,np.nan,inplace=True)"
   ]
  },
  {
   "cell_type": "markdown",
   "metadata": {},
   "source": [
    "get a subset with respondents in their first marriage only"
   ]
  },
  {
   "cell_type": "code",
   "execution_count": 21,
   "metadata": {
    "collapsed": true
   },
   "outputs": [],
   "source": [
    "FM = VOI[VOI['hy04'] == '1st marriage']"
   ]
  },
  {
   "cell_type": "markdown",
   "metadata": {},
   "source": [
    "and let's see their age when they get married"
   ]
  },
  {
   "cell_type": "code",
   "execution_count": 22,
   "metadata": {
    "collapsed": false
   },
   "outputs": [
    {
     "data": {
      "text/plain": [
       "category"
      ]
     },
     "execution_count": 22,
     "metadata": {},
     "output_type": "execute_result"
    }
   ],
   "source": [
    "FM['a07m'].dtype"
   ]
  },
  {
   "cell_type": "code",
   "execution_count": 23,
   "metadata": {
    "collapsed": false
   },
   "outputs": [
    {
     "data": {
      "text/plain": [
       "20-24         1422\n",
       "25-29         1332\n",
       "30-34          202\n",
       " < 20          121\n",
       "35-39           28\n",
       "40-44            2\n",
       "50-59            0\n",
       "45-49            0\n",
       "legit skip       0\n",
       "Name: a07m, dtype: int64"
      ]
     },
     "execution_count": 23,
     "metadata": {},
     "output_type": "execute_result"
    }
   ],
   "source": [
    "FM['a07m'].value_counts()"
   ]
  },
  {
   "cell_type": "code",
   "execution_count": 24,
   "metadata": {
    "collapsed": false
   },
   "outputs": [
    {
     "data": {
      "text/plain": [
       "Index([u'legit skip', u' < 20', u'20-24', u'25-29', u'30-34', u'35-39',\n",
       "       u'40-44', u'45-49', u'50-59'],\n",
       "      dtype='object')"
      ]
     },
     "execution_count": 24,
     "metadata": {},
     "output_type": "execute_result"
    }
   ],
   "source": [
    "FM['a07m'].cat.categories"
   ]
  },
  {
   "cell_type": "markdown",
   "metadata": {},
   "source": [
    "this variable is already orderd"
   ]
  },
  {
   "cell_type": "code",
   "execution_count": 25,
   "metadata": {
    "collapsed": false
   },
   "outputs": [
    {
     "data": {
      "text/plain": [
       "True"
      ]
     },
     "execution_count": 25,
     "metadata": {},
     "output_type": "execute_result"
    }
   ],
   "source": [
    "FM['a07m'].cat.ordered"
   ]
  },
  {
   "cell_type": "code",
   "execution_count": 26,
   "metadata": {
    "collapsed": false
   },
   "outputs": [
    {
     "data": {
      "text/plain": [
       "[u'legit skip',\n",
       " u' < 20',\n",
       " u'20-24',\n",
       " u'25-29',\n",
       " u'30-34',\n",
       " u'35-39',\n",
       " u'40-44',\n",
       " u'45-49',\n",
       " u'50-59']"
      ]
     },
     "execution_count": 26,
     "metadata": {},
     "output_type": "execute_result"
    }
   ],
   "source": [
    "levels=list(FM['a07m'].cat.categories)\n",
    "levels"
   ]
  },
  {
   "cell_type": "code",
   "execution_count": 27,
   "metadata": {
    "collapsed": false
   },
   "outputs": [
    {
     "data": {
      "text/plain": [
       "legit skip       0\n",
       " < 20          121\n",
       "20-24         1422\n",
       "25-29         1332\n",
       "30-34          202\n",
       "35-39           28\n",
       "40-44            2\n",
       "45-49            0\n",
       "50-59            0\n",
       "Name: a07m, dtype: int64"
      ]
     },
     "execution_count": 27,
     "metadata": {},
     "output_type": "execute_result"
    }
   ],
   "source": [
    "FM['a07m'].value_counts(sort=False)"
   ]
  },
  {
   "cell_type": "markdown",
   "metadata": {},
   "source": [
    "no respondents skiped this question, and none were married after 45. But I'm gonna keep these empty categories for now in order to show a complete picture and trend."
   ]
  },
  {
   "cell_type": "code",
   "execution_count": 28,
   "metadata": {
    "collapsed": false
   },
   "outputs": [
    {
     "data": {
      "text/plain": [
       "0    20-24\n",
       "dtype: category\n",
       "Categories (9, object): [legit skip < < 20 < 20-24 < 25-29 ... 35-39 < 40-44 < 45-49 < 50-59]"
      ]
     },
     "execution_count": 28,
     "metadata": {},
     "output_type": "execute_result"
    }
   ],
   "source": [
    "FM['a07m'].mode()"
   ]
  },
  {
   "cell_type": "markdown",
   "metadata": {},
   "source": [
    "the mode is between 20 and 24 years old."
   ]
  },
  {
   "cell_type": "code",
   "execution_count": 29,
   "metadata": {
    "collapsed": false
   },
   "outputs": [
    {
     "data": {
      "text/plain": [
       "legit skip    0.000000\n",
       " < 20         0.038944\n",
       "20-24         0.496621\n",
       "25-29         0.925330\n",
       "30-34         0.990344\n",
       "35-39         0.999356\n",
       "40-44         1.000000\n",
       "45-49         1.000000\n",
       "50-59         1.000000\n",
       "Name: a07m, dtype: float64"
      ]
     },
     "execution_count": 29,
     "metadata": {},
     "output_type": "execute_result"
    }
   ],
   "source": [
    "np.cumsum(FM['a07m'].value_counts(sort=False,normalize=True))"
   ]
  },
  {
   "cell_type": "code",
   "execution_count": 30,
   "metadata": {
    "collapsed": false
   },
   "outputs": [
    {
     "data": {
      "text/plain": [
       "u'25-29'"
      ]
     },
     "execution_count": 30,
     "metadata": {},
     "output_type": "execute_result"
    }
   ],
   "source": [
    "import numpy as np\n",
    "\n",
    "relFrequencies=FM['a07m'].value_counts(sort=False,normalize=True) \n",
    "cumulativeTable=np.cumsum(relFrequencies)\n",
    "pos =0\n",
    "for percent in cumulativeTable:\n",
    "    if percent < 0.5: \n",
    "        pos +=1 \n",
    "    else:\n",
    "        break\n",
    "cumulativeTable.index[pos]"
   ]
  },
  {
   "cell_type": "markdown",
   "metadata": {},
   "source": [
    "half of respondents got married between 25 to 29 years older or even earlier.\n",
    "\n",
    "if we do further calculation:"
   ]
  },
  {
   "cell_type": "code",
   "execution_count": 31,
   "metadata": {
    "collapsed": false
   },
   "outputs": [
    {
     "data": {
      "text/plain": [
       "u'25-29'"
      ]
     },
     "execution_count": 31,
     "metadata": {},
     "output_type": "execute_result"
    }
   ],
   "source": [
    "relFrequencies=FM['a07m'].value_counts(sort=False,normalize=True) \n",
    "cumulativeTable=np.cumsum(relFrequencies)\n",
    "pos =0\n",
    "for percent in cumulativeTable:\n",
    "    if percent < 0.9: \n",
    "        pos +=1 \n",
    "    else:\n",
    "        break\n",
    "cumulativeTable.index[pos]"
   ]
  },
  {
   "cell_type": "markdown",
   "metadata": {},
   "source": [
    "90% of respondents got married before 30.\n",
    "\n",
    "and lets plot a bar chart to show the respondents' age at first marriage."
   ]
  },
  {
   "cell_type": "code",
   "execution_count": 32,
   "metadata": {
    "collapsed": false
   },
   "outputs": [
    {
     "data": {
      "image/png": "[encoded data removed]",
      "text/plain": [
       "<matplotlib.figure.Figure at 0x11c5d4810>"
      ]
     },
     "metadata": {},
     "output_type": "display_data"
    }
   ],
   "source": [
    "import seaborn as sns\n",
    "ax=sns.countplot(x='a07m', data=FM,color='green')\n",
    "ax.set(xlabel='age', ylabel='number of respondents', title='Age at First Marriage')\n",
    "sns.plt.xticks(rotation=90)\n",
    "sns.plt.show()"
   ]
  },
  {
   "cell_type": "markdown",
   "metadata": {},
   "source": [
    "to get rid of empty categories in a07m, we need to drop \"legit skip\" "
   ]
  },
  {
   "cell_type": "code",
   "execution_count": 33,
   "metadata": {
    "collapsed": false
   },
   "outputs": [
    {
     "data": {
      "text/plain": [
       "Series([], Name: a07m, dtype: category\n",
       "Categories (9, object): [legit skip < < 20 < 20-24 < 25-29 ... 35-39 < 40-44 < 45-49 < 50-59])"
      ]
     },
     "execution_count": 33,
     "metadata": {},
     "output_type": "execute_result"
    }
   ],
   "source": [
    "FM['a07m'][FM['a07m']=='legit skip']"
   ]
  },
  {
   "cell_type": "code",
   "execution_count": 34,
   "metadata": {
    "collapsed": false
   },
   "outputs": [
    {
     "name": "stderr",
     "output_type": "stream",
     "text": [
      "/Users/autumn/anaconda/envs/py27/lib/python2.7/site-packages/pandas/core/indexing.py:477: SettingWithCopyWarning: \n",
      "A value is trying to be set on a copy of a slice from a DataFrame.\n",
      "Try using .loc[row_indexer,col_indexer] = value instead\n",
      "\n",
      "See the caveats in the documentation: http://pandas.pydata.org/pandas-docs/stable/indexing.html#indexing-view-versus-copy\n",
      "  self.obj[item] = s\n"
     ]
    }
   ],
   "source": [
    "FM.loc[:,'a07m']=FM['a07m'].cat.remove_unused_categories()"
   ]
  },
  {
   "cell_type": "markdown",
   "metadata": {},
   "source": [
    "and combine the last two categories into one"
   ]
  },
  {
   "cell_type": "code",
   "execution_count": 35,
   "metadata": {
    "collapsed": false
   },
   "outputs": [
    {
     "data": {
      "text/plain": [
       " < 20     121\n",
       "20-24    1422\n",
       "25-29    1332\n",
       "30-34     202\n",
       "35-39      28\n",
       "40-44       2\n",
       "Name: a07m, dtype: int64"
      ]
     },
     "execution_count": 35,
     "metadata": {},
     "output_type": "execute_result"
    }
   ],
   "source": [
    "FM['a07m'].value_counts(sort=False)"
   ]
  },
  {
   "cell_type": "code",
   "execution_count": 36,
   "metadata": {
    "collapsed": true
   },
   "outputs": [],
   "source": [
    "newList=[]\n",
    "newCat='35 or more'\n",
    "for val in FM['a07m']:\n",
    "    if val in ['35-39', '40-44']:\n",
    "        newList.append(newCat)\n",
    "    else:\n",
    "        newList.append(val)"
   ]
  },
  {
   "cell_type": "markdown",
   "metadata": {},
   "source": [
    "I named this new list as mage and add it into my sub-dataset"
   ]
  },
  {
   "cell_type": "code",
   "execution_count": 37,
   "metadata": {
    "collapsed": false
   },
   "outputs": [
    {
     "name": "stderr",
     "output_type": "stream",
     "text": [
      "/Users/autumn/anaconda/envs/py27/lib/python2.7/site-packages/pandas/core/indexing.py:297: SettingWithCopyWarning: \n",
      "A value is trying to be set on a copy of a slice from a DataFrame.\n",
      "Try using .loc[row_indexer,col_indexer] = value instead\n",
      "\n",
      "See the caveats in the documentation: http://pandas.pydata.org/pandas-docs/stable/indexing.html#indexing-view-versus-copy\n",
      "  self.obj[key] = _infer_fill_value(value)\n"
     ]
    }
   ],
   "source": [
    "FM.loc[:,'mage']=newList"
   ]
  },
  {
   "cell_type": "code",
   "execution_count": 38,
   "metadata": {
    "collapsed": false
   },
   "outputs": [
    {
     "data": {
      "text/plain": [
       "25-29         1332\n",
       "20-24         1422\n",
       "35 or more      30\n",
       " < 20          121\n",
       "30-34          202\n",
       "Name: mage, dtype: int64"
      ]
     },
     "execution_count": 38,
     "metadata": {},
     "output_type": "execute_result"
    }
   ],
   "source": [
    "FM['mage'].value_counts(sort=False)"
   ]
  },
  {
   "cell_type": "code",
   "execution_count": 39,
   "metadata": {
    "collapsed": true
   },
   "outputs": [],
   "source": [
    "orderedCats=[' < 20', '20-24', '25-29', '30-34', '35 or more']"
   ]
  },
  {
   "cell_type": "code",
   "execution_count": 40,
   "metadata": {
    "collapsed": true
   },
   "outputs": [],
   "source": [
    "FM.loc[:,'mage']=FM['mage'].astype(\"category\", categories=orderedCats, ordered=True)"
   ]
  },
  {
   "cell_type": "code",
   "execution_count": 41,
   "metadata": {
    "collapsed": false
   },
   "outputs": [
    {
     "data": {
      "text/plain": [
       " < 20          121\n",
       "20-24         1422\n",
       "25-29         1332\n",
       "30-34          202\n",
       "35 or more      30\n",
       "Name: mage, dtype: int64"
      ]
     },
     "execution_count": 41,
     "metadata": {},
     "output_type": "execute_result"
    }
   ],
   "source": [
    "FM['mage'].value_counts(sort=False)"
   ]
  },
  {
   "cell_type": "markdown",
   "metadata": {},
   "source": [
    "I also add a new column list named edu that combined education after high school into one cotegories"
   ]
  },
  {
   "cell_type": "code",
   "execution_count": 42,
   "metadata": {
    "collapsed": false
   },
   "outputs": [
    {
     "data": {
      "text/plain": [
       "no school     148\n",
       "primary       514\n",
       "low mid      1184\n",
       "up mid        863\n",
       "j col         277\n",
       "univ/grad     143\n",
       "Name: zj07, dtype: int64"
      ]
     },
     "execution_count": 42,
     "metadata": {},
     "output_type": "execute_result"
    }
   ],
   "source": [
    "FM['zj07'].value_counts(sort=False)"
   ]
  },
  {
   "cell_type": "code",
   "execution_count": 43,
   "metadata": {
    "collapsed": true
   },
   "outputs": [],
   "source": [
    "newList=[]\n",
    "newCat='col/univ/grad'\n",
    "for val in FM['zj07']:\n",
    "    if val in ['j col', 'univ/grad']:\n",
    "        newList.append(newCat)\n",
    "    else:\n",
    "        newList.append(val)"
   ]
  },
  {
   "cell_type": "code",
   "execution_count": 44,
   "metadata": {
    "collapsed": true
   },
   "outputs": [],
   "source": [
    "FM.loc[:,'edu']=newList"
   ]
  },
  {
   "cell_type": "code",
   "execution_count": 45,
   "metadata": {
    "collapsed": false
   },
   "outputs": [
    {
     "data": {
      "text/plain": [
       "no school         148\n",
       "col/univ/grad     420\n",
       "low mid          1184\n",
       "primary           514\n",
       "up mid            863\n",
       "Name: edu, dtype: int64"
      ]
     },
     "execution_count": 45,
     "metadata": {},
     "output_type": "execute_result"
    }
   ],
   "source": [
    "FM['edu'].value_counts(sort=False)"
   ]
  },
  {
   "cell_type": "code",
   "execution_count": 46,
   "metadata": {
    "collapsed": true
   },
   "outputs": [],
   "source": [
    "orderedCats=['no school', 'primary', 'low mid', 'up mid', 'col/univ/grad']"
   ]
  },
  {
   "cell_type": "code",
   "execution_count": 47,
   "metadata": {
    "collapsed": false
   },
   "outputs": [],
   "source": [
    "FM.loc[:,'edu']=FM['edu'].astype(\"category\", categories=orderedCats, ordered=True)"
   ]
  },
  {
   "cell_type": "code",
   "execution_count": 48,
   "metadata": {
    "collapsed": false
   },
   "outputs": [
    {
     "data": {
      "text/plain": [
       "no school         148\n",
       "primary           514\n",
       "low mid          1184\n",
       "up mid            863\n",
       "col/univ/grad     420\n",
       "Name: edu, dtype: int64"
      ]
     },
     "execution_count": 48,
     "metadata": {},
     "output_type": "execute_result"
    }
   ],
   "source": [
    "FM['edu'].value_counts(sort=False)"
   ]
  },
  {
   "cell_type": "markdown",
   "metadata": {},
   "source": [
    "let't see the relationship between gender and age at marriage in a crosstable."
   ]
  },
  {
   "cell_type": "code",
   "execution_count": 49,
   "metadata": {
    "collapsed": false
   },
   "outputs": [
    {
     "data": {
      "text/html": [
       "<div>\n",
       "<table border=\"1\" class=\"dataframe\">\n",
       "  <thead>\n",
       "    <tr style=\"text-align: right;\">\n",
       "      <th>mage</th>\n",
       "      <th>&lt; 20</th>\n",
       "      <th>20-24</th>\n",
       "      <th>25-29</th>\n",
       "      <th>30-34</th>\n",
       "      <th>35 or more</th>\n",
       "    </tr>\n",
       "    <tr>\n",
       "      <th>zj05</th>\n",
       "      <th></th>\n",
       "      <th></th>\n",
       "      <th></th>\n",
       "      <th></th>\n",
       "      <th></th>\n",
       "    </tr>\n",
       "  </thead>\n",
       "  <tbody>\n",
       "    <tr>\n",
       "      <th>male</th>\n",
       "      <td>20</td>\n",
       "      <td>550</td>\n",
       "      <td>777</td>\n",
       "      <td>153</td>\n",
       "      <td>23</td>\n",
       "    </tr>\n",
       "    <tr>\n",
       "      <th>female</th>\n",
       "      <td>101</td>\n",
       "      <td>872</td>\n",
       "      <td>555</td>\n",
       "      <td>49</td>\n",
       "      <td>7</td>\n",
       "    </tr>\n",
       "  </tbody>\n",
       "</table>\n",
       "</div>"
      ],
      "text/plain": [
       "mage     < 20  20-24  25-29  30-34  35 or more\n",
       "zj05                                          \n",
       "male       20    550    777    153          23\n",
       "female    101    872    555     49           7"
      ]
     },
     "execution_count": 49,
     "metadata": {},
     "output_type": "execute_result"
    }
   ],
   "source": [
    "pd.crosstab(FM.zj05,FM.mage)"
   ]
  },
  {
   "cell_type": "code",
   "execution_count": 50,
   "metadata": {
    "collapsed": false
   },
   "outputs": [
    {
     "data": {
      "text/html": [
       "<div>\n",
       "<table border=\"1\" class=\"dataframe\">\n",
       "  <thead>\n",
       "    <tr style=\"text-align: right;\">\n",
       "      <th>edu</th>\n",
       "      <th>no school</th>\n",
       "      <th>primary</th>\n",
       "      <th>low mid</th>\n",
       "      <th>up mid</th>\n",
       "      <th>col/univ/grad</th>\n",
       "    </tr>\n",
       "    <tr>\n",
       "      <th>zj05</th>\n",
       "      <th></th>\n",
       "      <th></th>\n",
       "      <th></th>\n",
       "      <th></th>\n",
       "      <th></th>\n",
       "    </tr>\n",
       "  </thead>\n",
       "  <tbody>\n",
       "    <tr>\n",
       "      <th>male</th>\n",
       "      <td>0.012784</td>\n",
       "      <td>0.071269</td>\n",
       "      <td>0.189517</td>\n",
       "      <td>0.139342</td>\n",
       "      <td>0.077661</td>\n",
       "    </tr>\n",
       "    <tr>\n",
       "      <th>female</th>\n",
       "      <td>0.034516</td>\n",
       "      <td>0.093001</td>\n",
       "      <td>0.188878</td>\n",
       "      <td>0.136465</td>\n",
       "      <td>0.056568</td>\n",
       "    </tr>\n",
       "  </tbody>\n",
       "</table>\n",
       "</div>"
      ],
      "text/plain": [
       "edu     no school   primary   low mid    up mid  col/univ/grad\n",
       "zj05                                                          \n",
       "male     0.012784  0.071269  0.189517  0.139342       0.077661\n",
       "female   0.034516  0.093001  0.188878  0.136465       0.056568"
      ]
     },
     "execution_count": 50,
     "metadata": {},
     "output_type": "execute_result"
    }
   ],
   "source": [
    " pd.crosstab(FM.zj05,FM.edu,normalize=True)"
   ]
  },
  {
   "cell_type": "markdown",
   "metadata": {},
   "source": [
    "using statistic caculation, chi test indicates that these two variables are not independent."
   ]
  },
  {
   "cell_type": "code",
   "execution_count": 51,
   "metadata": {
    "collapsed": false
   },
   "outputs": [
    {
     "data": {
      "text/plain": [
       "(225.10438365339147,\n",
       " 1.4941688740091694e-47,\n",
       " 4,\n",
       " array([[  59.31219826,  697.04087544,  652.92436434,   99.01705826,\n",
       "           14.7055037 ],\n",
       "        [  61.68780174,  724.95912456,  679.07563566,  102.98294174,\n",
       "           15.2944963 ]]))"
      ]
     },
     "execution_count": 51,
     "metadata": {},
     "output_type": "execute_result"
    }
   ],
   "source": [
    "from scipy import stats\n",
    "stats.chi2_contingency(observed= pd.crosstab(FM.zj05,FM.mage))"
   ]
  },
  {
   "cell_type": "code",
   "execution_count": 52,
   "metadata": {
    "collapsed": false
   },
   "outputs": [
    {
     "name": "stdout",
     "output_type": "stream",
     "text": [
      "Categorical Variables are not independent\n"
     ]
    }
   ],
   "source": [
    "chi,p,df,expected=stats.chi2_contingency(observed= pd.crosstab(FM.zj05,FM.mage))\n",
    "if p >= 0.5:\n",
    "    print('Categorical Variables are independent')\n",
    "else:\n",
    "    print('Categorical Variables are not independent')"
   ]
  },
  {
   "cell_type": "markdown",
   "metadata": {},
   "source": [
    "and let's see it in a bar chart."
   ]
  },
  {
   "cell_type": "code",
   "execution_count": 53,
   "metadata": {
    "collapsed": false
   },
   "outputs": [
    {
     "data": {
      "text/plain": [
       "<matplotlib.axes._subplots.AxesSubplot at 0x1164bb150>"
      ]
     },
     "execution_count": 53,
     "metadata": {},
     "output_type": "execute_result"
    },
    {
     "data": {
      "image/png": "[encoded data removed]",
      "text/plain": [
       "<matplotlib.figure.Figure at 0x11bdcd5d0>"
      ]
     },
     "metadata": {},
     "output_type": "display_data"
    }
   ],
   "source": [
    "%matplotlib inline \n",
    "table=pd.crosstab(FM.zj05,FM.mage,normalize=True)\n",
    "theTitle=\"Male and Female's Age at First Marrige\"\n",
    "table.plot(kind=\"bar\",figsize=(8,8),stacked=False,title=theTitle)"
   ]
  },
  {
   "cell_type": "markdown",
   "metadata": {},
   "source": [
    "I also want to see the relationship between eduaction and age at marriage."
   ]
  },
  {
   "cell_type": "code",
   "execution_count": 54,
   "metadata": {
    "collapsed": false
   },
   "outputs": [
    {
     "name": "stdout",
     "output_type": "stream",
     "text": [
      "Categorical Variables are not independent\n"
     ]
    }
   ],
   "source": [
    "chi,p,df,expected=stats.chi2_contingency(observed= pd.crosstab(FM.edu,FM.mage))\n",
    "if p >= 0.5:\n",
    "    print('Categorical Variables are independent')\n",
    "else:\n",
    "    print('Categorical Variables are not independent')"
   ]
  },
  {
   "cell_type": "code",
   "execution_count": 55,
   "metadata": {
    "collapsed": false
   },
   "outputs": [
    {
     "data": {
      "text/plain": [
       "<matplotlib.axes._subplots.AxesSubplot at 0x116a38810>"
      ]
     },
     "execution_count": 55,
     "metadata": {},
     "output_type": "execute_result"
    },
    {
     "data": {
      "image/png": "[encoded data removed]",
      "text/plain": [
       "<matplotlib.figure.Figure at 0x116538150>"
      ]
     },
     "metadata": {},
     "output_type": "display_data"
    }
   ],
   "source": [
    "%matplotlib inline \n",
    "table=pd.crosstab(FM.mage,FM.edu)\n",
    "theTitle=\"Education & Age at First Marriage\"\n",
    "table.plot(kind=\"bar\",figsize=(8,8),stacked=False,title=theTitle)"
   ]
  },
  {
   "cell_type": "markdown",
   "metadata": {},
   "source": [
    "how about eduacation and gender?"
   ]
  },
  {
   "cell_type": "code",
   "execution_count": 56,
   "metadata": {
    "collapsed": false
   },
   "outputs": [
    {
     "name": "stdout",
     "output_type": "stream",
     "text": [
      "Categorical Variables are not independent\n"
     ]
    }
   ],
   "source": [
    "chi,p,df,expected=stats.chi2_contingency(observed= pd.crosstab(FM.edu,FM.zj05))\n",
    "if p >= 0.5:\n",
    "    print('Categorical Variables are independent')\n",
    "else:\n",
    "    print('Categorical Variables are not independent')"
   ]
  },
  {
   "cell_type": "code",
   "execution_count": 57,
   "metadata": {
    "collapsed": false,
    "scrolled": true
   },
   "outputs": [
    {
     "data": {
      "text/plain": [
       "<matplotlib.axes._subplots.AxesSubplot at 0x11c76a410>"
      ]
     },
     "execution_count": 57,
     "metadata": {},
     "output_type": "execute_result"
    },
    {
     "data": {
      "image/png": "[encoded data removed]",
      "text/plain": [
       "<matplotlib.figure.Figure at 0x1169d2190>"
      ]
     },
     "metadata": {},
     "output_type": "display_data"
    }
   ],
   "source": [
    "%matplotlib inline \n",
    "table=pd.crosstab(FM.zj05,FM.edu,normalize=True)\n",
    "theTitle=\"Education & Gender\"\n",
    "table.plot(kind=\"bar\",figsize=(8,8),stacked=False,title=theTitle)"
   ]
  },
  {
   "cell_type": "markdown",
   "metadata": {},
   "source": [
    "now I want to see the relationship among these three variables"
   ]
  },
  {
   "cell_type": "code",
   "execution_count": 58,
   "metadata": {
    "collapsed": false
   },
   "outputs": [
    {
     "data": {
      "text/html": [
       "<div>\n",
       "<table border=\"1\" class=\"dataframe\">\n",
       "  <thead>\n",
       "    <tr>\n",
       "      <th>mage</th>\n",
       "      <th colspan=\"2\" halign=\"left\">&lt; 20</th>\n",
       "      <th colspan=\"2\" halign=\"left\">20-24</th>\n",
       "      <th colspan=\"2\" halign=\"left\">25-29</th>\n",
       "      <th colspan=\"2\" halign=\"left\">30-34</th>\n",
       "      <th colspan=\"2\" halign=\"left\">35 or more</th>\n",
       "    </tr>\n",
       "    <tr>\n",
       "      <th>zj05</th>\n",
       "      <th>male</th>\n",
       "      <th>female</th>\n",
       "      <th>male</th>\n",
       "      <th>female</th>\n",
       "      <th>male</th>\n",
       "      <th>female</th>\n",
       "      <th>male</th>\n",
       "      <th>female</th>\n",
       "      <th>male</th>\n",
       "      <th>female</th>\n",
       "    </tr>\n",
       "    <tr>\n",
       "      <th>edu</th>\n",
       "      <th></th>\n",
       "      <th></th>\n",
       "      <th></th>\n",
       "      <th></th>\n",
       "      <th></th>\n",
       "      <th></th>\n",
       "      <th></th>\n",
       "      <th></th>\n",
       "      <th></th>\n",
       "      <th></th>\n",
       "    </tr>\n",
       "  </thead>\n",
       "  <tbody>\n",
       "    <tr>\n",
       "      <th>no school</th>\n",
       "      <td>4</td>\n",
       "      <td>24</td>\n",
       "      <td>18</td>\n",
       "      <td>66</td>\n",
       "      <td>15</td>\n",
       "      <td>16</td>\n",
       "      <td>3</td>\n",
       "      <td>0</td>\n",
       "      <td>0</td>\n",
       "      <td>1</td>\n",
       "    </tr>\n",
       "    <tr>\n",
       "      <th>primary</th>\n",
       "      <td>12</td>\n",
       "      <td>48</td>\n",
       "      <td>105</td>\n",
       "      <td>182</td>\n",
       "      <td>92</td>\n",
       "      <td>55</td>\n",
       "      <td>12</td>\n",
       "      <td>5</td>\n",
       "      <td>2</td>\n",
       "      <td>0</td>\n",
       "    </tr>\n",
       "    <tr>\n",
       "      <th>low mid</th>\n",
       "      <td>3</td>\n",
       "      <td>21</td>\n",
       "      <td>261</td>\n",
       "      <td>334</td>\n",
       "      <td>263</td>\n",
       "      <td>214</td>\n",
       "      <td>55</td>\n",
       "      <td>17</td>\n",
       "      <td>5</td>\n",
       "      <td>1</td>\n",
       "    </tr>\n",
       "    <tr>\n",
       "      <th>up mid</th>\n",
       "      <td>1</td>\n",
       "      <td>7</td>\n",
       "      <td>130</td>\n",
       "      <td>221</td>\n",
       "      <td>252</td>\n",
       "      <td>181</td>\n",
       "      <td>42</td>\n",
       "      <td>12</td>\n",
       "      <td>7</td>\n",
       "      <td>3</td>\n",
       "    </tr>\n",
       "    <tr>\n",
       "      <th>col/univ/grad</th>\n",
       "      <td>0</td>\n",
       "      <td>1</td>\n",
       "      <td>36</td>\n",
       "      <td>69</td>\n",
       "      <td>155</td>\n",
       "      <td>89</td>\n",
       "      <td>41</td>\n",
       "      <td>15</td>\n",
       "      <td>9</td>\n",
       "      <td>2</td>\n",
       "    </tr>\n",
       "  </tbody>\n",
       "</table>\n",
       "</div>"
      ],
      "text/plain": [
       "mage           < 20        20-24        25-29        30-34        35 or more  \\\n",
       "zj05           male female  male female  male female  male female       male   \n",
       "edu                                                                            \n",
       "no school         4     24    18     66    15     16     3      0          0   \n",
       "primary          12     48   105    182    92     55    12      5          2   \n",
       "low mid           3     21   261    334   263    214    55     17          5   \n",
       "up mid            1      7   130    221   252    181    42     12          7   \n",
       "col/univ/grad     0      1    36     69   155     89    41     15          9   \n",
       "\n",
       "mage                  \n",
       "zj05          female  \n",
       "edu                   \n",
       "no school          1  \n",
       "primary            0  \n",
       "low mid            1  \n",
       "up mid             3  \n",
       "col/univ/grad      2  "
      ]
     },
     "execution_count": 58,
     "metadata": {},
     "output_type": "execute_result"
    }
   ],
   "source": [
    "pd.crosstab(FM.edu,[FM.mage,FM.zj05])"
   ]
  },
  {
   "cell_type": "code",
   "execution_count": 59,
   "metadata": {
    "collapsed": false
   },
   "outputs": [
    {
     "name": "stdout",
     "output_type": "stream",
     "text": [
      "Categorical Variables are not independent\n"
     ]
    }
   ],
   "source": [
    "from scipy import stats\n",
    "\n",
    "chi,p,df,exp=stats.chi2_contingency(observed= pd.crosstab(FM.edu,[FM.mage,FM.zj05]))\n",
    "if p >= 0.5:\n",
    "    print('Categorical Variables are independent')\n",
    "else:\n",
    "    print('Categorical Variables are not independent')"
   ]
  },
  {
   "cell_type": "code",
   "execution_count": 60,
   "metadata": {
    "collapsed": false
   },
   "outputs": [
    {
     "data": {
      "image/png": "[encoded data removed]",
      "text/plain": [
       "<matplotlib.figure.Figure at 0x11c775e90>"
      ]
     },
     "metadata": {},
     "output_type": "display_data"
    }
   ],
   "source": [
    "%matplotlib inline\n",
    "\n",
    "table=pd.crosstab(FM.edu,[FM.mage,FM.zj05])\n",
    "import seaborn as sns\n",
    "ax = sns.heatmap(table,yticklabels=True,linewidths=.5,annot=True,fmt='d')"
   ]
  }
 ],
 "metadata": {
  "kernelspec": {
   "display_name": "Python 2",
   "language": "python",
   "name": "python2"
  },
  "language_info": {
   "codemirror_mode": {
    "name": "ipython",
    "version": 2
   },
   "file_extension": ".py",
   "mimetype": "text/x-python",
   "name": "python",
   "nbconvert_exporter": "python",
   "pygments_lexer": "ipython2",
   "version": "2.7.13"
  }
 },
 "nbformat": 4,
 "nbformat_minor": 2
}
