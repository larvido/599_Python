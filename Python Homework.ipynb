{
 "cells": [
  {
   "cell_type": "markdown",
   "metadata": {},
   "source": [
    "# Session 1 Data Structures"
   ]
  },
  {
   "cell_type": "code",
   "execution_count": 14,
   "metadata": {
    "collapsed": true
   },
   "outputs": [
    {
     "data": {
      "text/html": [
       "<div>\n",
       "<table border=\"1\" class=\"dataframe\">\n",
       "  <thead>\n",
       "    <tr style=\"text-align: right;\">\n",
       "      <th></th>\n",
       "      <th>city</th>\n",
       "      <th>region</th>\n",
       "      <th>visits2013</th>\n",
       "      <th>visits2015</th>\n",
       "    </tr>\n",
       "  </thead>\n",
       "  <tbody>\n",
       "    <tr>\n",
       "      <th>0</th>\n",
       "      <td>Bangkok</td>\n",
       "      <td>Asia</td>\n",
       "      <td>15.98</td>\n",
       "      <td>18.24</td>\n",
       "    </tr>\n",
       "    <tr>\n",
       "      <th>1</th>\n",
       "      <td>Dubai</td>\n",
       "      <td>Asia</td>\n",
       "      <td>9.89</td>\n",
       "      <td>14.26</td>\n",
       "    </tr>\n",
       "    <tr>\n",
       "      <th>2</th>\n",
       "      <td>Hong Kong</td>\n",
       "      <td>Asia</td>\n",
       "      <td>8.72</td>\n",
       "      <td>8.66</td>\n",
       "    </tr>\n",
       "    <tr>\n",
       "      <th>3</th>\n",
       "      <td>Istanbul</td>\n",
       "      <td>Europe</td>\n",
       "      <td>10.37</td>\n",
       "      <td>12.56</td>\n",
       "    </tr>\n",
       "    <tr>\n",
       "      <th>4</th>\n",
       "      <td>Kuala Lumpur</td>\n",
       "      <td>Asia</td>\n",
       "      <td>9.20</td>\n",
       "      <td>11.12</td>\n",
       "    </tr>\n",
       "    <tr>\n",
       "      <th>5</th>\n",
       "      <td>London</td>\n",
       "      <td>Europe</td>\n",
       "      <td>15.96</td>\n",
       "      <td>18.82</td>\n",
       "    </tr>\n",
       "    <tr>\n",
       "      <th>6</th>\n",
       "      <td>New York</td>\n",
       "      <td>America</td>\n",
       "      <td>11.52</td>\n",
       "      <td>12.27</td>\n",
       "    </tr>\n",
       "    <tr>\n",
       "      <th>7</th>\n",
       "      <td>Paris</td>\n",
       "      <td>Europe</td>\n",
       "      <td>13.92</td>\n",
       "      <td>16.06</td>\n",
       "    </tr>\n",
       "    <tr>\n",
       "      <th>8</th>\n",
       "      <td>Seoul</td>\n",
       "      <td>Asia</td>\n",
       "      <td>NaN</td>\n",
       "      <td>10.35</td>\n",
       "    </tr>\n",
       "    <tr>\n",
       "      <th>9</th>\n",
       "      <td>Singapore</td>\n",
       "      <td>Asia</td>\n",
       "      <td>11.75</td>\n",
       "      <td>11.88</td>\n",
       "    </tr>\n",
       "    <tr>\n",
       "      <th>10</th>\n",
       "      <td>Barcelona</td>\n",
       "      <td>Europe</td>\n",
       "      <td>8.41</td>\n",
       "      <td>NaN</td>\n",
       "    </tr>\n",
       "  </tbody>\n",
       "</table>\n",
       "</div>"
      ],
      "text/plain": [
       "            city   region  visits2013  visits2015\n",
       "0        Bangkok     Asia       15.98       18.24\n",
       "1          Dubai     Asia        9.89       14.26\n",
       "2      Hong Kong     Asia        8.72        8.66\n",
       "3       Istanbul   Europe       10.37       12.56\n",
       "4   Kuala Lumpur     Asia        9.20       11.12\n",
       "5         London   Europe       15.96       18.82\n",
       "6       New York  America       11.52       12.27\n",
       "7          Paris   Europe       13.92       16.06\n",
       "8          Seoul     Asia         NaN       10.35\n",
       "9      Singapore     Asia       11.75       11.88\n",
       "10     Barcelona   Europe        8.41         NaN"
      ]
     },
     "execution_count": 14,
     "metadata": {},
     "output_type": "execute_result"
    }
   ],
   "source": [
    "import pandas as pd\n",
    "import os\n",
    "folderName='data'\n",
    "fileName='cities.xlsx'\n",
    "fileExcel=os.path.join(folderName,fileName)\n",
    "cv=pd.read_excel(fileExcel) \n",
    "cv"
   ]
  },
  {
   "cell_type": "markdown",
   "metadata": {},
   "source": [
    " the most visited city in 2015:"
   ]
  },
  {
   "cell_type": "code",
   "execution_count": 2,
   "metadata": {
    "collapsed": true
   },
   "outputs": [
    {
     "data": {
      "text/plain": [
       "5    London\n",
       "Name: city, dtype: object"
      ]
     },
     "execution_count": 2,
     "metadata": {},
     "output_type": "execute_result"
    }
   ],
   "source": [
    "MostVisited2015=cv[cv.visits2015==max(cv.visits2015)].city\n",
    "MostVisited2015"
   ]
  },
  {
   "cell_type": "markdown",
   "metadata": {},
   "source": [
    "the least visited city in Asia in 2013:"
   ]
  },
  {
   "cell_type": "code",
   "execution_count": 3,
   "metadata": {
    "collapsed": true
   },
   "outputs": [
    {
     "data": {
      "text/plain": [
       "2    Hong Kong\n",
       "Name: city, dtype: object"
      ]
     },
     "execution_count": 3,
     "metadata": {},
     "output_type": "execute_result"
    }
   ],
   "source": [
    "LeastVisitedAisa2013=cv[cv.region=='Asia'].sort_values('visits2013',ascending=True).head(1).city\n",
    "LeastVisitedAisa2013"
   ]
  },
  {
   "cell_type": "markdown",
   "metadata": {},
   "source": [
    "the three least visited cities in Asia in 2015:"
   ]
  },
  {
   "cell_type": "code",
   "execution_count": 4,
   "metadata": {
    "collapsed": true
   },
   "outputs": [
    {
     "data": {
      "text/plain": [
       "2       Hong Kong\n",
       "8           Seoul\n",
       "4    Kuala Lumpur\n",
       "Name: city, dtype: object"
      ]
     },
     "execution_count": 4,
     "metadata": {},
     "output_type": "execute_result"
    }
   ],
   "source": [
    "ThreeLeastVisitedAisa2015=cv[cv.region=='Asia'].sort_values('visits2015',ascending=True).head(3).city\n",
    "ThreeLeastVisitedAisa2015"
   ]
  },
  {
   "cell_type": "markdown",
   "metadata": {},
   "source": [
    "the most visited city in Asia in 2013:"
   ]
  },
  {
   "cell_type": "code",
   "execution_count": 5,
   "metadata": {
    "collapsed": true
   },
   "outputs": [
    {
     "data": {
      "text/plain": [
       "2    Hong Kong\n",
       "Name: city, dtype: object"
      ]
     },
     "execution_count": 5,
     "metadata": {},
     "output_type": "execute_result"
    }
   ],
   "source": [
    "LeastVisitedAisa2015=cv[cv.region=='Asia'].sort_values('visits2015',ascending=True).head(1).city\n",
    "LeastVisitedAisa2015"
   ]
  },
  {
   "cell_type": "markdown",
   "metadata": {},
   "source": [
    "and the least visited city in Asia in 2013:"
   ]
  },
  {
   "cell_type": "code",
   "execution_count": 6,
   "metadata": {
    "collapsed": true
   },
   "outputs": [
    {
     "data": {
      "text/plain": [
       "0    Bangkok\n",
       "Name: city, dtype: object"
      ]
     },
     "execution_count": 6,
     "metadata": {},
     "output_type": "execute_result"
    }
   ],
   "source": [
    "MostVisitedAsia2015=cv[cv.region=='Asia'].sort_values('visits2015',ascending=True).tail(1).city\n",
    "MostVisitedAsia2015"
   ]
  },
  {
   "cell_type": "markdown",
   "metadata": {},
   "source": [
    "# Session 2: Control of Execution"
   ]
  },
  {
   "cell_type": "markdown",
   "metadata": {},
   "source": [
    "using 'np.isnan':"
   ]
  },
  {
   "cell_type": "code",
   "execution_count": 10,
   "metadata": {
    "collapsed": true
   },
   "outputs": [
    {
     "name": "stdout",
     "output_type": "stream",
     "text": [
      "3.0 is the root of  9\n"
     ]
    },
    {
     "ename": "TypeError",
     "evalue": "ufunc 'isnan' not supported for the input types, and the inputs could not be safely coerced to any supported types according to the casting rule ''safe''",
     "output_type": "error",
     "traceback": [
      "\u001b[0;31m---------------------------------------------------------------------------\u001b[0m",
      "\u001b[0;31mTypeError\u001b[0m                                 Traceback (most recent call last)",
      "\u001b[0;32m<ipython-input-10-7d10ca492a12>\u001b[0m in \u001b[0;36m<module>\u001b[0;34m()\u001b[0m\n\u001b[1;32m      4\u001b[0m \u001b[0mvalues\u001b[0m\u001b[0;34m=\u001b[0m\u001b[0;34m[\u001b[0m\u001b[0;36m9\u001b[0m\u001b[0;34m,\u001b[0m\u001b[0;32mNone\u001b[0m\u001b[0;34m,\u001b[0m\u001b[0;34m'1000'\u001b[0m\u001b[0;34m,\u001b[0m\u001b[0;34m-\u001b[0m\u001b[0;36m100\u001b[0m\u001b[0;34m,\u001b[0m \u001b[0;36m144\u001b[0m\u001b[0;34m,\u001b[0m\u001b[0;34m-\u001b[0m\u001b[0;36m72\u001b[0m\u001b[0;34m]\u001b[0m\u001b[0;34m\u001b[0m\u001b[0m\n\u001b[1;32m      5\u001b[0m \u001b[0;32mfor\u001b[0m \u001b[0mvalue\u001b[0m \u001b[0;32min\u001b[0m \u001b[0mvalues\u001b[0m\u001b[0;34m:\u001b[0m\u001b[0;34m\u001b[0m\u001b[0m\n\u001b[0;32m----> 6\u001b[0;31m     \u001b[0;32mif\u001b[0m \u001b[0mnp\u001b[0m\u001b[0;34m.\u001b[0m\u001b[0misnan\u001b[0m\u001b[0;34m(\u001b[0m\u001b[0mvalue\u001b[0m\u001b[0;34m)\u001b[0m\u001b[0;34m:\u001b[0m \u001b[0;31m# condition1\u001b[0m\u001b[0;34m\u001b[0m\u001b[0m\n\u001b[0m\u001b[1;32m      7\u001b[0m         \u001b[0mprint\u001b[0m \u001b[0;34m(\u001b[0m\u001b[0;34m'missing values as input'\u001b[0m\u001b[0;34m)\u001b[0m\u001b[0;34m\u001b[0m\u001b[0m\n\u001b[1;32m      8\u001b[0m         \u001b[0;32mcontinue\u001b[0m\u001b[0;34m\u001b[0m\u001b[0m\n",
      "\u001b[0;31mTypeError\u001b[0m: ufunc 'isnan' not supported for the input types, and the inputs could not be safely coerced to any supported types according to the casting rule ''safe''"
     ]
    }
   ],
   "source": [
    "from math import sqrt\n",
    "import numpy as np\n",
    "\n",
    "values=[9,None,'1000',-100, 144,-72]\n",
    "for value in values: \n",
    "    if np.isnan(value): # condition1 \n",
    "        print ('missing values as input')\n",
    "        continue\n",
    "    if isinstance(value, str): #condition2\n",
    "        print ('string as input')\n",
    "        continue\n",
    "    if value < 0: # condition3\n",
    "        print ('negative value as input')\n",
    "        continue\n",
    "    print (sqrt(value), 'is the root of ',value)  "
   ]
  },
  {
   "cell_type": "code",
   "execution_count": 11,
   "metadata": {
    "collapsed": true
   },
   "outputs": [
    {
     "name": "stdout",
     "output_type": "stream",
     "text": [
      "3.0 is the root of  9\n",
      "missing values as input\n"
     ]
    },
    {
     "ename": "TypeError",
     "evalue": "ufunc 'isnan' not supported for the input types, and the inputs could not be safely coerced to any supported types according to the casting rule ''safe''",
     "output_type": "error",
     "traceback": [
      "\u001b[0;31m---------------------------------------------------------------------------\u001b[0m",
      "\u001b[0;31mTypeError\u001b[0m                                 Traceback (most recent call last)",
      "\u001b[0;32m<ipython-input-11-d23646dd679e>\u001b[0m in \u001b[0;36m<module>\u001b[0;34m()\u001b[0m\n\u001b[1;32m      1\u001b[0m \u001b[0mvalues\u001b[0m\u001b[0;34m=\u001b[0m\u001b[0;34m[\u001b[0m\u001b[0;36m9\u001b[0m\u001b[0;34m,\u001b[0m\u001b[0mnp\u001b[0m\u001b[0;34m.\u001b[0m\u001b[0mnan\u001b[0m\u001b[0;34m,\u001b[0m\u001b[0;34m'1000'\u001b[0m\u001b[0;34m,\u001b[0m\u001b[0;34m-\u001b[0m\u001b[0;36m100\u001b[0m\u001b[0;34m,\u001b[0m \u001b[0;36m144\u001b[0m\u001b[0;34m,\u001b[0m\u001b[0;34m-\u001b[0m\u001b[0;36m72\u001b[0m\u001b[0;34m]\u001b[0m\u001b[0;34m\u001b[0m\u001b[0m\n\u001b[1;32m      2\u001b[0m \u001b[0;32mfor\u001b[0m \u001b[0mvalue\u001b[0m \u001b[0;32min\u001b[0m \u001b[0mvalues\u001b[0m\u001b[0;34m:\u001b[0m\u001b[0;34m\u001b[0m\u001b[0m\n\u001b[0;32m----> 3\u001b[0;31m     \u001b[0;32mif\u001b[0m \u001b[0mnp\u001b[0m\u001b[0;34m.\u001b[0m\u001b[0misnan\u001b[0m\u001b[0;34m(\u001b[0m\u001b[0mvalue\u001b[0m\u001b[0;34m)\u001b[0m\u001b[0;34m:\u001b[0m \u001b[0;31m# condition1\u001b[0m\u001b[0;34m\u001b[0m\u001b[0m\n\u001b[0m\u001b[1;32m      4\u001b[0m         \u001b[0mprint\u001b[0m \u001b[0;34m(\u001b[0m\u001b[0;34m'missing values as input'\u001b[0m\u001b[0;34m)\u001b[0m\u001b[0;34m\u001b[0m\u001b[0m\n\u001b[1;32m      5\u001b[0m         \u001b[0;32mcontinue\u001b[0m\u001b[0;34m\u001b[0m\u001b[0m\n",
      "\u001b[0;31mTypeError\u001b[0m: ufunc 'isnan' not supported for the input types, and the inputs could not be safely coerced to any supported types according to the casting rule ''safe''"
     ]
    }
   ],
   "source": [
    "values=[9,np.nan,'1000',-100, 144,-72]\n",
    "for value in values: \n",
    "    if np.isnan(value): # condition1 \n",
    "        print ('missing values as input')\n",
    "        continue\n",
    "    if isinstance(value, str): #condition2\n",
    "        print ('string as input')\n",
    "        continue\n",
    "    if value < 0: # condition3\n",
    "        print ('negative value as input')\n",
    "        continue\n",
    "    print (sqrt(value), 'is the root of ',value)  "
   ]
  },
  {
   "cell_type": "code",
   "execution_count": 12,
   "metadata": {
    "collapsed": true
   },
   "outputs": [
    {
     "name": "stdout",
     "output_type": "stream",
     "text": [
      "3.0 is the root of  9\n",
      "missing values as input\n",
      "1.8973665961010275 is the root of  3.6\n",
      "negative value as input\n",
      "12.0 is the root of  144\n",
      "negative value as input\n"
     ]
    }
   ],
   "source": [
    "values=[9,np.nan,3.6,-100, 144,-72]\n",
    "for value in values: \n",
    "    if np.isnan(value): # condition1 \n",
    "        print ('missing values as input')\n",
    "        continue\n",
    "    if isinstance(value, str): #condition2\n",
    "        print ('string as input')\n",
    "        continue\n",
    "    if value < 0: # condition3\n",
    "        print ('negative value as input')\n",
    "        continue\n",
    "    print (sqrt(value), 'is the root of ',value)  "
   ]
  },
  {
   "cell_type": "markdown",
   "metadata": {},
   "source": [
    "There would be a TypeError that ufunc 'isnan' is not supported for the input types, and the inputs could not be safely coerced to any supported types according to the casting rule ''safe''.\n",
    "\n",
    "numpy.isnan test NaN, which is numerical data, but it can't be used to test other types such as strings."
   ]
  },
  {
   "cell_type": "markdown",
   "metadata": {},
   "source": [
    "Changing the order of conditions:"
   ]
  },
  {
   "cell_type": "code",
   "execution_count": 3,
   "metadata": {
    "collapsed": true
   },
   "outputs": [
    {
     "name": "stdout",
     "output_type": "stream",
     "text": [
      "3.0 is the root of  9\n"
     ]
    },
    {
     "ename": "TypeError",
     "evalue": "'<' not supported between instances of 'NoneType' and 'int'",
     "output_type": "error",
     "traceback": [
      "\u001b[0;31m---------------------------------------------------------------------------\u001b[0m",
      "\u001b[0;31mTypeError\u001b[0m                                 Traceback (most recent call last)",
      "\u001b[0;32m<ipython-input-3-dc539100f06d>\u001b[0m in \u001b[0;36m<module>\u001b[0;34m()\u001b[0m\n\u001b[1;32m      1\u001b[0m \u001b[0mvalues\u001b[0m\u001b[0;34m=\u001b[0m\u001b[0;34m[\u001b[0m\u001b[0;36m9\u001b[0m\u001b[0;34m,\u001b[0m\u001b[0;32mNone\u001b[0m\u001b[0;34m,\u001b[0m\u001b[0mnp\u001b[0m\u001b[0;34m.\u001b[0m\u001b[0mnan\u001b[0m\u001b[0;34m,\u001b[0m \u001b[0;34m'1000'\u001b[0m\u001b[0;34m,\u001b[0m\u001b[0;34m-\u001b[0m\u001b[0;36m100\u001b[0m\u001b[0;34m,\u001b[0m \u001b[0;36m144\u001b[0m\u001b[0;34m,\u001b[0m\u001b[0;34m-\u001b[0m\u001b[0;36m72\u001b[0m\u001b[0;34m]\u001b[0m\u001b[0;34m\u001b[0m\u001b[0m\n\u001b[1;32m      2\u001b[0m \u001b[0;32mfor\u001b[0m \u001b[0mvalue\u001b[0m \u001b[0;32min\u001b[0m \u001b[0mvalues\u001b[0m\u001b[0;34m:\u001b[0m\u001b[0;34m\u001b[0m\u001b[0m\n\u001b[0;32m----> 3\u001b[0;31m     \u001b[0;32mif\u001b[0m \u001b[0mvalue\u001b[0m \u001b[0;34m<\u001b[0m \u001b[0;36m0\u001b[0m\u001b[0;34m:\u001b[0m \u001b[0;31m# condition3\u001b[0m\u001b[0;34m\u001b[0m\u001b[0m\n\u001b[0m\u001b[1;32m      4\u001b[0m         \u001b[0mprint\u001b[0m \u001b[0;34m(\u001b[0m\u001b[0;34m'negative value as input'\u001b[0m\u001b[0;34m)\u001b[0m\u001b[0;34m\u001b[0m\u001b[0m\n\u001b[1;32m      5\u001b[0m         \u001b[0;32mcontinue\u001b[0m\u001b[0;34m\u001b[0m\u001b[0m\n",
      "\u001b[0;31mTypeError\u001b[0m: '<' not supported between instances of 'NoneType' and 'int'"
     ]
    }
   ],
   "source": [
    "values=[9,None,np.nan, '1000',-100, 144,-72]\n",
    "for value in values: \n",
    "    if value < 0: # condition3\n",
    "        print ('negative value as input')\n",
    "        continue\n",
    "    if isinstance(value, str): #condition2\n",
    "        print ('string as input')\n",
    "        continue    \n",
    "    if value==None: # condition1\n",
    "        print ('missing values as input')\n",
    "        continue\n",
    "    print (sqrt(value), 'is the root of ',value)"
   ]
  },
  {
   "cell_type": "code",
   "execution_count": 4,
   "metadata": {
    "collapsed": true
   },
   "outputs": [
    {
     "name": "stdout",
     "output_type": "stream",
     "text": [
      "3.0 is the root of  9\n",
      "missing values as input\n",
      "nan is the root of  nan\n"
     ]
    },
    {
     "ename": "TypeError",
     "evalue": "'<' not supported between instances of 'str' and 'int'",
     "output_type": "error",
     "traceback": [
      "\u001b[0;31m---------------------------------------------------------------------------\u001b[0m",
      "\u001b[0;31mTypeError\u001b[0m                                 Traceback (most recent call last)",
      "\u001b[0;32m<ipython-input-4-37602e358832>\u001b[0m in \u001b[0;36m<module>\u001b[0;34m()\u001b[0m\n\u001b[1;32m      4\u001b[0m         \u001b[0mprint\u001b[0m \u001b[0;34m(\u001b[0m\u001b[0;34m'missing values as input'\u001b[0m\u001b[0;34m)\u001b[0m\u001b[0;34m\u001b[0m\u001b[0m\n\u001b[1;32m      5\u001b[0m         \u001b[0;32mcontinue\u001b[0m\u001b[0;34m\u001b[0m\u001b[0m\n\u001b[0;32m----> 6\u001b[0;31m     \u001b[0;32mif\u001b[0m \u001b[0mvalue\u001b[0m \u001b[0;34m<\u001b[0m \u001b[0;36m0\u001b[0m\u001b[0;34m:\u001b[0m \u001b[0;31m# condition3\u001b[0m\u001b[0;34m\u001b[0m\u001b[0m\n\u001b[0m\u001b[1;32m      7\u001b[0m         \u001b[0mprint\u001b[0m \u001b[0;34m(\u001b[0m\u001b[0;34m'negative value as input'\u001b[0m\u001b[0;34m)\u001b[0m\u001b[0;34m\u001b[0m\u001b[0m\n\u001b[1;32m      8\u001b[0m         \u001b[0;32mcontinue\u001b[0m\u001b[0;34m\u001b[0m\u001b[0m\n",
      "\u001b[0;31mTypeError\u001b[0m: '<' not supported between instances of 'str' and 'int'"
     ]
    }
   ],
   "source": [
    "values=[9,None,np.nan, '1000',-100, 144,-72]\n",
    "for value in values:    \n",
    "    if value==None: # condition1\n",
    "        print ('missing values as input')\n",
    "        continue\n",
    "    if value < 0: # condition3\n",
    "        print ('negative value as input')\n",
    "        continue\n",
    "    if isinstance(value, str): #condition2\n",
    "        print ('string as input')\n",
    "        continue \n",
    "    print (sqrt(value), 'is the root of ',value) "
   ]
  },
  {
   "cell_type": "markdown",
   "metadata": {},
   "source": [
    "When condition 3 is not the last condition, there would be a TypeError that '<' is not supported between instances of 'NoneType' and 'int', or between 'str' and 'int'."
   ]
  },
  {
   "cell_type": "markdown",
   "metadata": {},
   "source": [
    "But it works when condition 3 is the last condition:"
   ]
  },
  {
   "cell_type": "code",
   "execution_count": 9,
   "metadata": {
    "collapsed": true
   },
   "outputs": [
    {
     "name": "stdout",
     "output_type": "stream",
     "text": [
      "3.0 is the root of  9\n",
      "missing values as input\n",
      "nan is the root of  nan\n",
      "string as input\n",
      "negative value as input\n",
      "12.0 is the root of  144\n",
      "negative value as input\n"
     ]
    }
   ],
   "source": [
    " values=[9,None,np.nan, '1000',-100, 144,-72]\n",
    "for value in values: \n",
    "    if isinstance(value, str): #condition2\n",
    "        print ('string as input')\n",
    "        continue    \n",
    "    if value==None: # condition1\n",
    "        print ('missing values as input')\n",
    "        continue\n",
    "    if value < 0: # condition3\n",
    "        print ('negative value as input')\n",
    "        continue\n",
    "    print (sqrt(value), 'is the root of ',value)  "
   ]
  },
  {
   "cell_type": "markdown",
   "metadata": {},
   "source": [
    "Using isnull to test mising values:"
   ]
  },
  {
   "cell_type": "code",
   "execution_count": 10,
   "metadata": {
    "collapsed": true
   },
   "outputs": [
    {
     "name": "stdout",
     "output_type": "stream",
     "text": [
      "3.0 is the root of  9\n",
      "missing values as input\n",
      "missing values as input\n",
      "string as input\n",
      "negative value as input\n",
      "12.0 is the root of  144\n",
      "negative value as input\n"
     ]
    }
   ],
   "source": [
    "import pandas as pd\n",
    "values=[9,None,np.nan, '1000',-100, 144,-72]\n",
    "for value in values: \n",
    "    if pd.isnull(value): # condition1\n",
    "        print ('missing values as input')\n",
    "        continue\n",
    "    if isinstance(value, str): #condition2\n",
    "        print ('string as input')\n",
    "        continue\n",
    "    if value < 0: # condition3\n",
    "        print ('negative value as input')\n",
    "        continue\n",
    "    print (sqrt(value), 'is the root of ',value)    "
   ]
  },
  {
   "cell_type": "markdown",
   "metadata": {},
   "source": [
    "using if and for\n",
    "\n",
    "Import new data on people's age:"
   ]
  },
  {
   "cell_type": "code",
   "execution_count": null,
   "metadata": {
    "collapsed": true
   },
   "outputs": [],
   "source": [
    "import pandas as pd\n",
    "import os\n",
    "\n",
    "folderName='data'\n",
    "fileName='people.xlsx'\n",
    "fileExcel=os.path.join(folderName,fileName)\n",
    "dataFromExcel=pd.read_excel(fileExcel) # table '1'\n",
    "dataFromExcel"
   ]
  },
  {
   "cell_type": "markdown",
   "metadata": {},
   "source": [
    "finding the youngest age, and inform who has that age."
   ]
  },
  {
   "cell_type": "code",
   "execution_count": 11,
   "metadata": {
    "collapsed": true
   },
   "outputs": [],
   "source": [
    "numRows,numCols=dataFromExcel.shape\n",
    "\n",
    "YoungestAge=1000\n",
    "positionsOfYoungest=[]\n",
    "countYoungest=0\n",
    "\n",
    "\n",
    "for position in range(numRows):\n",
    "    age = dataFromExcel.loc[position,'ages']\n",
    "    if YoungestAge>age:\n",
    "        YoungestAge=age\n",
    "\n",
    "\n",
    "for position in range(numRows):\n",
    "    age = dataFromExcel.loc[position,'ages']\n",
    "    if YoungestAge==age:\n",
    "        countYoungest=countYoungest+1\n",
    "        positionsOfYoungest.append(position)"
   ]
  },
  {
   "cell_type": "code",
   "execution_count": 12,
   "metadata": {
    "collapsed": true
   },
   "outputs": [
    {
     "data": {
      "text/plain": [
       "25"
      ]
     },
     "execution_count": 12,
     "metadata": {},
     "output_type": "execute_result"
    }
   ],
   "source": [
    "YoungestAge"
   ]
  },
  {
   "cell_type": "code",
   "execution_count": 13,
   "metadata": {
    "collapsed": true
   },
   "outputs": [
    {
     "data": {
      "text/html": [
       "<div>\n",
       "<table border=\"1\" class=\"dataframe\">\n",
       "  <thead>\n",
       "    <tr style=\"text-align: right;\">\n",
       "      <th></th>\n",
       "      <th>cod</th>\n",
       "      <th>ages</th>\n",
       "      <th>state</th>\n",
       "      <th>education</th>\n",
       "    </tr>\n",
       "  </thead>\n",
       "  <tbody>\n",
       "    <tr>\n",
       "      <th>2</th>\n",
       "      <td>A3</td>\n",
       "      <td>25</td>\n",
       "      <td>DC</td>\n",
       "      <td>3</td>\n",
       "    </tr>\n",
       "    <tr>\n",
       "      <th>7</th>\n",
       "      <td>A8</td>\n",
       "      <td>25</td>\n",
       "      <td>NY</td>\n",
       "      <td>2</td>\n",
       "    </tr>\n",
       "    <tr>\n",
       "      <th>19</th>\n",
       "      <td>A20</td>\n",
       "      <td>25</td>\n",
       "      <td>FL</td>\n",
       "      <td>1</td>\n",
       "    </tr>\n",
       "  </tbody>\n",
       "</table>\n",
       "</div>"
      ],
      "text/plain": [
       "    cod  ages state  education\n",
       "2    A3    25    DC          3\n",
       "7    A8    25    NY          2\n",
       "19  A20    25    FL          1"
      ]
     },
     "execution_count": 13,
     "metadata": {},
     "output_type": "execute_result"
    }
   ],
   "source": [
    "dataFromExcel.iloc[positionsOfYoungest]"
   ]
  },
  {
   "cell_type": "markdown",
   "metadata": {},
   "source": [
    "Redo questions in session 1:"
   ]
  },
  {
   "cell_type": "markdown",
   "metadata": {},
   "source": [
    "the most visited city in 2015:"
   ]
  },
  {
   "cell_type": "code",
   "execution_count": 15,
   "metadata": {
    "collapsed": true
   },
   "outputs": [
    {
     "data": {
      "text/plain": [
       "5    London\n",
       "Name: city, dtype: object"
      ]
     },
     "execution_count": 15,
     "metadata": {},
     "output_type": "execute_result"
    }
   ],
   "source": [
    "numRows,numCols=cv.shape\n",
    "\n",
    "mv2015=0\n",
    "positionsOfmv2015=[]\n",
    "\n",
    "for position in range(numRows):\n",
    "    v2015 = cv.loc[position,'visits2015']\n",
    "    if v2015>mv2015:\n",
    "        mv2015=v2015\n",
    "\n",
    "for position in range(numRows):\n",
    "    v2015 = cv.loc[position,'visits2015']\n",
    "    if v2015==mv2015:\n",
    "        positionsOfmv2015.append(position)\n",
    "\n",
    "cv.iloc[positionsOfmv2015].city"
   ]
  },
  {
   "cell_type": "markdown",
   "metadata": {},
   "source": [
    "the least visited in Aisa in 2013"
   ]
  },
  {
   "cell_type": "code",
   "execution_count": 16,
   "metadata": {
    "collapsed": true
   },
   "outputs": [
    {
     "data": {
      "text/plain": [
       "2    Hong Kong\n",
       "Name: city, dtype: object"
      ]
     },
     "execution_count": 16,
     "metadata": {},
     "output_type": "execute_result"
    }
   ],
   "source": [
    "numRows,numCols=cv.shape\n",
    "\n",
    "lv2013a=100\n",
    "positionsOflv2013a=[]\n",
    "\n",
    "for position in range(numRows):\n",
    "    region = cv.loc[position,'region']\n",
    "    if region != 'Asia':\n",
    "        continue\n",
    "    v2013a = cv.loc[position,'visits2013']\n",
    "    if v2013a<lv2013a:\n",
    "        lv2013a=v2013a\n",
    "\n",
    "for position in range(numRows):\n",
    "    v2013a = cv.loc[position,'visits2013']\n",
    "    if v2013a==lv2013a:\n",
    "        positionsOflv2013a.append(position)\n",
    "\n",
    "cv.iloc[positionsOflv2013a].city"
   ]
  },
  {
   "cell_type": "markdown",
   "metadata": {},
   "source": [
    "the three least visited cities in Asia in 2015:"
   ]
  },
  {
   "cell_type": "code",
   "execution_count": 43,
   "metadata": {
    "collapsed": false
   },
   "outputs": [],
   "source": [
    "numRows,numCols=cv.shape\n",
    "\n",
    "lv2015a1=100\n",
    "positionsOflv2015a1=[]\n",
    "lv2015a2=100\n",
    "positionsOflv2015a2=[]\n",
    "lv2015a3=100\n",
    "positionsOflv2015a3=[]\n",
    "\n",
    "for position in range(numRows):\n",
    "    region = cv.loc[position,'region']\n",
    "    if region != 'Asia':\n",
    "        continue\n",
    "    v2015a = cv.loc[position,'visits2015']\n",
    "    if v2015a<lv2015a1:\n",
    "        lv2015a1=v2015a\n",
    "\n",
    "for position in range(numRows):\n",
    "    v2015a = cv.loc[position,'visits2015']\n",
    "    if v2015a==lv2015a1:\n",
    "        positionsOflv2015a1.append(position)\n",
    "\n",
    "\n",
    "\n",
    "for position in range(numRows):\n",
    "    region = cv.loc[position,'region']\n",
    "    if region != 'Asia':\n",
    "        continue\n",
    "    v2015a = cv.loc[position,'visits2015']\n",
    "    if v2015a<lv2015a2 and v2015a>lv2015a1:\n",
    "        lv2015a2=v2015a\n",
    "\n",
    "for position in range(numRows):\n",
    "    v2015a = cv.loc[position,'visits2015']\n",
    "    if v2015a==lv2015a2:\n",
    "        positionsOflv2015a2.append(position)\n",
    "\n",
    "\n",
    "\n",
    "for position in range(numRows):\n",
    "    region = cv.loc[position,'region']\n",
    "    if region != 'Asia':\n",
    "        continue\n",
    "    v2015a = cv.loc[position,'visits2015']\n",
    "    if v2015a<lv2015a3 and v2015a>lv2015a2 :\n",
    "        lv2015a3=v2015a\n",
    "\n",
    "for position in range(numRows):\n",
    "    v2015a = cv.loc[position,'visits2015']\n",
    "    if v2015a==lv2015a3:\n",
    "        positionsOflv2015a3.append(position)"
   ]
  },
  {
   "cell_type": "code",
   "execution_count": 44,
   "metadata": {
    "collapsed": true
   },
   "outputs": [
    {
     "data": {
      "text/plain": [
       "2    Hong Kong\n",
       "Name: city, dtype: object"
      ]
     },
     "execution_count": 44,
     "metadata": {},
     "output_type": "execute_result"
    }
   ],
   "source": [
    "cv.iloc[positionsOflv2015a1].city "
   ]
  },
  {
   "cell_type": "code",
   "execution_count": 45,
   "metadata": {
    "collapsed": true
   },
   "outputs": [
    {
     "data": {
      "text/plain": [
       "8    Seoul\n",
       "Name: city, dtype: object"
      ]
     },
     "execution_count": 45,
     "metadata": {},
     "output_type": "execute_result"
    }
   ],
   "source": [
    "cv.iloc[positionsOflv2015a2].city"
   ]
  },
  {
   "cell_type": "code",
   "execution_count": 46,
   "metadata": {
    "collapsed": true
   },
   "outputs": [
    {
     "data": {
      "text/plain": [
       "4    Kuala Lumpur\n",
       "Name: city, dtype: object"
      ]
     },
     "execution_count": 46,
     "metadata": {},
     "output_type": "execute_result"
    }
   ],
   "source": [
    "cv.iloc[positionsOflv2015a3].city"
   ]
  },
  {
   "cell_type": "markdown",
   "metadata": {},
   "source": [
    "Using comphrehensions (with the values from rootsInDict):"
   ]
  },
  {
   "cell_type": "code",
   "execution_count": null,
   "metadata": {
    "collapsed": true
   },
   "outputs": [],
   "source": [
    "values=[9,25,49,-121]\n",
    "rootsInDict={value:(sqrt(value) if value > 0 else None) for value in values}  "
   ]
  },
  {
   "cell_type": "markdown",
   "metadata": {},
   "source": [
    "Creating a list of tuples:"
   ]
  },
  {
   "cell_type": "code",
   "execution_count": 47,
   "metadata": {
    "collapsed": true
   },
   "outputs": [
    {
     "data": {
      "text/plain": [
       "[(9, 3.0), (25, 5.0), (49, 7.0), (-121, None)]"
      ]
     },
     "execution_count": 47,
     "metadata": {},
     "output_type": "execute_result"
    }
   ],
   "source": [
    "ListofTuples=[value for value in (tuple((key,value)for key,value in rootsInDict.items()))]\n",
    "ListofTuples"
   ]
  },
  {
   "cell_type": "markdown",
   "metadata": {},
   "source": [
    "Create a list with the first 10 even numbers:"
   ]
  },
  {
   "cell_type": "code",
   "execution_count": 48,
   "metadata": {
    "collapsed": true
   },
   "outputs": [],
   "source": [
    "list1=[0,2,4,6,8,10,12,14,16,18]"
   ]
  },
  {
   "cell_type": "markdown",
   "metadata": {},
   "source": [
    "creating a list with each of those values to the power of two:"
   ]
  },
  {
   "cell_type": "code",
   "execution_count": 49,
   "metadata": {
    "collapsed": true
   },
   "outputs": [
    {
     "data": {
      "text/plain": [
       "[0, 4, 16, 36, 64, 100, 144, 196, 256, 324]"
      ]
     },
     "execution_count": 49,
     "metadata": {},
     "output_type": "execute_result"
    }
   ],
   "source": [
    "list2=[value**2 for value in list1]\n",
    "list2"
   ]
  },
  {
   "cell_type": "markdown",
   "metadata": {},
   "source": [
    "creating another list with each of those same values with their square root:"
   ]
  },
  {
   "cell_type": "code",
   "execution_count": 50,
   "metadata": {
    "collapsed": true
   },
   "outputs": [
    {
     "data": {
      "text/plain": [
       "[0.0,\n",
       " 1.4142135623730951,\n",
       " 2.0,\n",
       " 2.449489742783178,\n",
       " 2.8284271247461903,\n",
       " 3.1622776601683795,\n",
       " 3.4641016151377544,\n",
       " 3.7416573867739413,\n",
       " 4.0,\n",
       " 4.242640687119285]"
      ]
     },
     "execution_count": 50,
     "metadata": {},
     "output_type": "execute_result"
    }
   ],
   "source": [
    "list3=[sqrt(value)for value in list1]\n",
    "list3"
   ]
  },
  {
   "cell_type": "markdown",
   "metadata": {},
   "source": [
    "creating a list of tuples combining the three lists, with each tuple holding the triplet: (number, numer to power of two, squared root of number."
   ]
  },
  {
   "cell_type": "code",
   "execution_count": 51,
   "metadata": {
    "collapsed": true
   },
   "outputs": [
    {
     "data": {
      "text/plain": [
       "[(0, 0, 0.0),\n",
       " (2, 4, 1.4142135623730951),\n",
       " (4, 16, 2.0),\n",
       " (6, 36, 2.449489742783178),\n",
       " (8, 64, 2.8284271247461903),\n",
       " (10, 100, 3.1622776601683795),\n",
       " (12, 144, 3.4641016151377544),\n",
       " (14, 196, 3.7416573867739413),\n",
       " (16, 256, 4.0),\n",
       " (18, 324, 4.242640687119285)]"
      ]
     },
     "execution_count": 51,
     "metadata": {},
     "output_type": "execute_result"
    }
   ],
   "source": [
    "list4=list(zip(list1,list2,list3))\n",
    "list4"
   ]
  },
  {
   "cell_type": "markdown",
   "metadata": {},
   "source": [
    "Creating a dictionary of dictionaries with the three lists created initially in the previous exercise. The dict of dicts should be named 'numPowRoot', and if you write: numPowRoot[10], your output should be {'power2': 100, 'root2': 3.1622776601683795}"
   ]
  },
  {
   "cell_type": "code",
   "execution_count": 52,
   "metadata": {
    "collapsed": true
   },
   "outputs": [
    {
     "data": {
      "text/plain": [
       "{0: {'power2': 0, 'root2': 0.0},\n",
       " 2: {'power2': 4, 'root2': 1.4142135623730951},\n",
       " 4: {'power2': 16, 'root2': 2.0},\n",
       " 6: {'power2': 36, 'root2': 2.449489742783178},\n",
       " 8: {'power2': 64, 'root2': 2.8284271247461903},\n",
       " 10: {'power2': 100, 'root2': 3.1622776601683795},\n",
       " 12: {'power2': 144, 'root2': 3.4641016151377544},\n",
       " 14: {'power2': 196, 'root2': 3.7416573867739413},\n",
       " 16: {'power2': 256, 'root2': 4.0},\n",
       " 18: {'power2': 324, 'root2': 4.242640687119285}}"
      ]
     },
     "execution_count": 52,
     "metadata": {},
     "output_type": "execute_result"
    }
   ],
   "source": [
    "numPowRoot ={value: {'power2': value ** 2, 'root2' : sqrt(value)} for value in list1}\n",
    "numPowRoot"
   ]
  },
  {
   "cell_type": "markdown",
   "metadata": {},
   "source": [
    "# Session 3: Building Functions"
   ]
  },
  {
   "cell_type": "markdown",
   "metadata": {},
   "source": [
    "Creating the function riseToPowerPlus, which gives a good answer even when the power is negative."
   ]
  },
  {
   "cell_type": "code",
   "execution_count": 55,
   "metadata": {
    "collapsed": true
   },
   "outputs": [],
   "source": [
    "def riseToPowerPlus(base,exponent=2): \n",
    "    result=1\n",
    "    if exponent > 0:\n",
    "        for time in range(1,exponent+1): \n",
    "            result=result*base\n",
    "    elif exponent < 0:\n",
    "        for time in range(1,-exponent):\n",
    "            result = 1/(result*base)\n",
    "    else: \n",
    "        result = 1\n",
    "    return(result)"
   ]
  },
  {
   "cell_type": "code",
   "execution_count": 56,
   "metadata": {
    "collapsed": true
   },
   "outputs": [
    {
     "data": {
      "text/plain": [
       "0.1111111111111111"
      ]
     },
     "execution_count": 56,
     "metadata": {},
     "output_type": "execute_result"
    }
   ],
   "source": [
    "riseToPowerPlus(base=9,exponent=-2)"
   ]
  },
  {
   "cell_type": "markdown",
   "metadata": {},
   "source": [
    "Change the function ’factors’to reduce the amount of iterations in the for loop:"
   ]
  },
  {
   "cell_type": "code",
   "execution_count": 15,
   "metadata": {
    "collapsed": true
   },
   "outputs": [],
   "source": [
    "def factors2(number):\n",
    "    factorsList=[] \n",
    "    for i in range(1,int((sqrt(number)+1))):\n",
    "        if number % i == 0:\n",
    "            factorsList.append(int(i))\n",
    "            factorsList.append(int(number/i))\n",
    "    return factorsList "
   ]
  },
  {
   "cell_type": "code",
   "execution_count": 16,
   "metadata": {
    "collapsed": true
   },
   "outputs": [
    {
     "data": {
      "text/plain": [
       "[1, 20, 2, 10, 4, 5]"
      ]
     },
     "execution_count": 16,
     "metadata": {},
     "output_type": "execute_result"
    }
   ],
   "source": [
    "factors2(20)"
   ]
  },
  {
   "cell_type": "markdown",
   "metadata": {},
   "source": [
    "a function that does not accept negative values or zeros as input and returns a message if an invalid value was input."
   ]
  },
  {
   "cell_type": "code",
   "execution_count": 17,
   "metadata": {
    "collapsed": true
   },
   "outputs": [],
   "source": [
    "def factors3(number):\n",
    "    factorsList=[] \n",
    "    if number <= 0:\n",
    "        print('sorry, nevative value or zero input are not accepted.')\n",
    "    if number >0:\n",
    "        for i in range(1,int((sqrt(number)+1))):\n",
    "            if number % i == 0:\n",
    "                factorsList.append(int(i))\n",
    "                factorsList.append(int(number/i))\n",
    "        return factorsList "
   ]
  },
  {
   "cell_type": "markdown",
   "metadata": {},
   "source": [
    "Or"
   ]
  },
  {
   "cell_type": "code",
   "execution_count": 19,
   "metadata": {
    "collapsed": true
   },
   "outputs": [],
   "source": [
    "def factors3(number):\n",
    "    factorsList=[] \n",
    "    if number == 0:\n",
    "        print('zero as input, empty list.')\n",
    "    try:\n",
    "        for i in range(1,int((sqrt(number)+1))):\n",
    "            if number % i == 0:\n",
    "                factorsList.append(int(i))\n",
    "                factorsList.append(int(number/i))\n",
    "        return factorsList \n",
    "    except ValueError:\n",
    "        print('negative value input is not accepted.')"
   ]
  },
  {
   "cell_type": "code",
   "execution_count": 20,
   "metadata": {
    "collapsed": true
   },
   "outputs": [
    {
     "name": "stdout",
     "output_type": "stream",
     "text": [
      "zero as input,empty list\n"
     ]
    },
    {
     "data": {
      "text/plain": [
       "[]"
      ]
     },
     "execution_count": 20,
     "metadata": {},
     "output_type": "execute_result"
    }
   ],
   "source": [
    "factors3(0)"
   ]
  },
  {
   "cell_type": "markdown",
   "metadata": {},
   "source": [
    "a function that accepts only positive integer values; and returns a message if an invalid valid was input."
   ]
  },
  {
   "cell_type": "code",
   "execution_count": 24,
   "metadata": {
    "collapsed": true
   },
   "outputs": [],
   "source": [
    "def factors(number):\n",
    "    factorsList=[] \n",
    "    if number >0 and type(number)== int:\n",
    "        for i in range(1,int((sqrt(number)+1))):\n",
    "            if number % i == 0:\n",
    "                factorsList.append(int(i))\n",
    "                factorsList.append(int(number/i))\n",
    "        return factorsList \n",
    "    else:\n",
    "        print('sorry, only positive integer inputs are accepted.')"
   ]
  },
  {
   "cell_type": "markdown",
   "metadata": {},
   "source": [
    "or"
   ]
  },
  {
   "cell_type": "code",
   "execution_count": 22,
   "metadata": {
    "collapsed": true
   },
   "outputs": [],
   "source": [
    "def factors(number):\n",
    "    factorsList=[] \n",
    "    if isinstance(number,int) and number > 0: \n",
    "        for i in range(1,int((sqrt(number)+1))):\n",
    "            if number % i == 0:\n",
    "                factorsList.append(int(i))\n",
    "                factorsList.append(int(number/i))\n",
    "        return factorsList \n",
    "    else:\n",
    "        print('sorry, input invalid')"
   ]
  },
  {
   "cell_type": "code",
   "execution_count": 27,
   "metadata": {
    "collapsed": true
   },
   "outputs": [
    {
     "name": "stdout",
     "output_type": "stream",
     "text": [
      "sorry, only positive integer inputs are accepted.\n"
     ]
    }
   ],
   "source": [
    "factors(8.0)"
   ]
  },
  {
   "cell_type": "markdown",
   "metadata": {},
   "source": [
    "a function 'resistant' to missing values of any kind:"
   ]
  },
  {
   "cell_type": "code",
   "execution_count": null,
   "metadata": {
    "collapsed": true
   },
   "outputs": [],
   "source": [
    "import pandas as pd\n",
    "def factors(number):\n",
    "    factorsList=[] \n",
    "    if pd.notnull(number):\n",
    "        if isinstance(number,int) and number > 0: \n",
    "            for i in range(1,int((sqrt(number)+1))):\n",
    "                if number % i == 0:\n",
    "                    factorsList.append(int(i))\n",
    "                    factorsList.append(int(number/i))\n",
    "            return factorsList \n",
    "        else:\n",
    "            print('invalid value as input')\n",
    "    else:\n",
    "        print('missing value as input')"
   ]
  },
  {
   "cell_type": "code",
   "execution_count": null,
   "metadata": {
    "collapsed": true
   },
   "outputs": [],
   "source": [
    "factors(0)"
   ]
  },
  {
   "cell_type": "markdown",
   "metadata": {},
   "source": [
    "a function that reads two lists and returns a data frame with those lists and extra columns with their sum, difference, multiplication and division."
   ]
  },
  {
   "cell_type": "code",
   "execution_count": null,
   "metadata": {
    "collapsed": true
   },
   "outputs": [],
   "source": [
    "def extra_columns(list_a, list_b):\n",
    "    import pandas as pd\n",
    "    twonumbers = zip(list_a,list_b)\n",
    "    sumlist =[]\n",
    "    diflist =[]\n",
    "    mullist =[]\n",
    "    divlist =[]\n",
    "    for i in twonumbers:\n",
    "        sumval = i[0] + i[1]\n",
    "        sumlist.append(sumval)\n",
    "        difval = i[0] - i[1]\n",
    "        diflist.append(difval)\n",
    "        mulval = i[0] * i[1]\n",
    "        mullist.append(mulval)\n",
    "        divval = i[0]/i[1]\n",
    "        divlist.append(divval)\n",
    "    extra_dic ={'List  A': list_a, 'List B': list_b, 'SUM': sumlist, 'DIF': diflist, 'MUL': mullist, 'DIV': divlist }\n",
    "    return pd.DataFrame(extra_dic)"
   ]
  },
  {
   "cell_type": "markdown",
   "metadata": {},
   "source": [
    "or"
   ]
  },
  {
   "cell_type": "code",
   "execution_count": null,
   "metadata": {
    "collapsed": true
   },
   "outputs": [],
   "source": [
    "def extra(list_a, list_b):\n",
    "    df = pd.DataFrame({'listA':list_a,'listB':list_b}, columns =['listA','listB'])\n",
    "    sum_list = df.apply(lambda x: x[0]+x[1], axis = 1)\n",
    "    dif_list = df.apply(lambda x: x[0] - x[1], axis = 1)\n",
    "    mul_list =df.apply(lambda x: x[0]*x[1], axis = 1)\n",
    "    div_list =df.apply(lambda x: x[0]/x[1], axis = 1)\n",
    "    extra_dic ={'List  A': list_a, 'List B': list_b, 'SUM': sum_list, 'DIF': dif_list, 'MUL': mul_list, 'DIV': div_list }\n",
    "    return pd.DataFrame(extra_dic)\n"
   ]
  },
  {
   "cell_type": "code",
   "execution_count": null,
   "metadata": {
    "collapsed": true
   },
   "outputs": [],
   "source": [
    "extra_columns(factors(10),factors(4))"
   ]
  },
  {
   "cell_type": "markdown",
   "metadata": {},
   "source": [
    "to get double() to work as it did with R vectors"
   ]
  },
  {
   "cell_type": "code",
   "execution_count": 28,
   "metadata": {
    "collapsed": true
   },
   "outputs": [],
   "source": [
    "def double(x):\n",
    "    doublelist=[]\n",
    "    for i in x:\n",
    "        doublelist.append(i*2)\n",
    "    return doublelist"
   ]
  },
  {
   "cell_type": "code",
   "execution_count": 29,
   "metadata": {
    "collapsed": true
   },
   "outputs": [
    {
     "data": {
      "text/plain": [
       "[2, 4, 6]"
      ]
     },
     "execution_count": 29,
     "metadata": {},
     "output_type": "execute_result"
    }
   ],
   "source": [
    "myList=[1,2,3]\n",
    "double(myList)"
   ]
  },
  {
   "cell_type": "markdown",
   "metadata": {},
   "source": [
    "understand the following function:"
   ]
  },
  {
   "cell_type": "code",
   "execution_count": 30,
   "metadata": {
    "collapsed": true
   },
   "outputs": [],
   "source": [
    "def strangerF(x):\n",
    "    answer=0\n",
    "    change=True\n",
    "    for value in x:\n",
    "        if (change):\n",
    "            answer+=value\n",
    "        else:\n",
    "            answer-=value\n",
    "    \n",
    "        change= not change \n",
    "\n",
    "    return answer"
   ]
  },
  {
   "cell_type": "markdown",
   "metadata": {},
   "source": [
    "strangerF sums the first value, minus second value, sums the third, minus the fourth... for example, if I have a list=[1,2,3,4,5], strangerF gives the answer of \"+1-2+3-4+5\""
   ]
  },
  {
   "cell_type": "code",
   "execution_count": 36,
   "metadata": {
    "collapsed": true
   },
   "outputs": [
    {
     "data": {
      "text/plain": [
       "3"
      ]
     },
     "execution_count": 36,
     "metadata": {},
     "output_type": "execute_result"
    }
   ],
   "source": [
    "testList=[1,2,3,4,5]\n",
    "strangerF(testList)"
   ]
  },
  {
   "cell_type": "code",
   "execution_count": 31,
   "metadata": {
    "collapsed": true
   },
   "outputs": [
    {
     "data": {
      "text/html": [
       "<div>\n",
       "<table border=\"1\" class=\"dataframe\">\n",
       "  <thead>\n",
       "    <tr style=\"text-align: right;\">\n",
       "      <th></th>\n",
       "      <th>vals1</th>\n",
       "      <th>vals2</th>\n",
       "      <th>vals3</th>\n",
       "    </tr>\n",
       "  </thead>\n",
       "  <tbody>\n",
       "    <tr>\n",
       "      <th>0</th>\n",
       "      <td>A</td>\n",
       "      <td>9</td>\n",
       "      <td>100</td>\n",
       "    </tr>\n",
       "    <tr>\n",
       "      <th>1</th>\n",
       "      <td>B</td>\n",
       "      <td>1</td>\n",
       "      <td>1</td>\n",
       "    </tr>\n",
       "    <tr>\n",
       "      <th>2</th>\n",
       "      <td>C</td>\n",
       "      <td>1</td>\n",
       "      <td>1</td>\n",
       "    </tr>\n",
       "    <tr>\n",
       "      <th>3</th>\n",
       "      <td>A</td>\n",
       "      <td>1</td>\n",
       "      <td>1</td>\n",
       "    </tr>\n",
       "    <tr>\n",
       "      <th>4</th>\n",
       "      <td>B</td>\n",
       "      <td>1</td>\n",
       "      <td>1</td>\n",
       "    </tr>\n",
       "    <tr>\n",
       "      <th>5</th>\n",
       "      <td>C</td>\n",
       "      <td>1</td>\n",
       "      <td>1</td>\n",
       "    </tr>\n",
       "    <tr>\n",
       "      <th>6</th>\n",
       "      <td>A</td>\n",
       "      <td>1</td>\n",
       "      <td>1</td>\n",
       "    </tr>\n",
       "    <tr>\n",
       "      <th>7</th>\n",
       "      <td>B</td>\n",
       "      <td>1</td>\n",
       "      <td>1</td>\n",
       "    </tr>\n",
       "    <tr>\n",
       "      <th>8</th>\n",
       "      <td>C</td>\n",
       "      <td>1</td>\n",
       "      <td>1</td>\n",
       "    </tr>\n",
       "  </tbody>\n",
       "</table>\n",
       "</div>"
      ],
      "text/plain": [
       "  vals1  vals2  vals3\n",
       "0     A      9    100\n",
       "1     B      1      1\n",
       "2     C      1      1\n",
       "3     A      1      1\n",
       "4     B      1      1\n",
       "5     C      1      1\n",
       "6     A      1      1\n",
       "7     B      1      1\n",
       "8     C      1      1"
      ]
     },
     "execution_count": 31,
     "metadata": {},
     "output_type": "execute_result"
    }
   ],
   "source": [
    "folderName='data'\n",
    "fileName='dataforstrangeF.csv'\n",
    "fileF=os.path.join(folderName,fileName)\n",
    "dataforstrangeF=pd.read_csv(fileF) \n",
    "dataforstrangeF"
   ]
  },
  {
   "cell_type": "markdown",
   "metadata": {},
   "source": [
    "strangerF can be applied to the vals2 and vals3 columns because values in these two columns are nemeric.\n",
    "But apply, mapply and filter don't work."
   ]
  }
 ],
 "metadata": {
  "anaconda-cloud": {},
  "kernelspec": {
   "display_name": "Python [default]",
   "language": "python",
   "name": "python3"
  },
  "language_info": {
   "codemirror_mode": {
    "name": "ipython",
    "version": 3
   },
   "file_extension": ".py",
   "mimetype": "text/x-python",
   "name": "python",
   "nbconvert_exporter": "python",
   "pygments_lexer": "ipython3",
   "version": "3.5.2"
  }
 },
 "nbformat": 4,
 "nbformat_minor": 2
}
